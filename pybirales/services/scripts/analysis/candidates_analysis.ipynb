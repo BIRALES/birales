{
 "cells": [
  {
   "cell_type": "code",
   "execution_count": 1,
   "metadata": {},
   "outputs": [],
   "source": [
    "import numpy as np\n",
    "import matplotlib.pyplot as plt\n",
    "%matplotlib inline\n",
    "import pandas as pd\n",
    "import matplotlib\n",
    "from sklearn import linear_model\n",
    "from scipy import stats\n",
    "from itertools import cycle\n",
    "import os\n",
    "import datetime\n",
    "from matplotlib import colors\n",
    "\n",
    "matplotlib.rcParams['figure.figsize'] = (16, 10)\n",
    "\n",
    "colors = cycle(colors.CSS4_COLORS.keys())\n",
    "DEBUG_DIR = '/home/denis/.birales/debug/detection/'\n",
    "ROOT = '20180412'\n",
    "def find_csv_filenames( path_to_dir, suffix=\".csv\" ):\n",
    "    filenames = os.listdir(os.path.join(DEBUG_DIR, path_to_dir))\n",
    "    return [ filename for filename in filenames if filename.endswith( suffix ) ]\n",
    "\n",
    "def plot_candidates(root, csv_files):    \n",
    "    # Create plot\n",
    "    fig = plt.figure()\n",
    "    ax = fig.add_subplot(1, 1, 1)\n",
    "\n",
    "    for csv_file in csv_files:\n",
    "        df = pd.read_csv(os.path.join(DEBUG_DIR, root, csv_file), parse_dates=['time'])\n",
    "        slope, intercept, r_value, p_value, std_err = stats.linregress(df['channel_sample'],df['time_sample'])    \n",
    "        \n",
    "        group = csv_file[21:-4] + ' ({:0.2f})'.format(r_value)\n",
    "        ax.scatter(y=df['channel_sample'], x=df['time_sample'], alpha=0.8, c=next(colors),label=group)\n",
    "        ax.legend(loc=\"upper right\")\n",
    "        \n",
    "        print(group)\n",
    "        print('Score: {:0.2f}'.format(r_value))\n",
    "        print('Size: {:0.2f}'.format(df['channel'].size))\n",
    "        print('m: {:0.2f}, r: {:0.2f}'.format(slope, r_value))\n",
    "        print('No. of activated beams: {}'.format(df['beam_id'].unique().size))\n",
    "        print('Mean Doppler Shift:'.format((410.105 - df['channel'].mean())*1e6))\n",
    "        print('Mean Channel:'.format(df['channel'].mean()))\n",
    "        print ''"
   ]
  },
  {
   "cell_type": "code",
   "execution_count": 2,
   "metadata": {
    "scrolled": false
   },
   "outputs": [
    {
     "name": "stdout",
     "output_type": "stream",
     "text": [
      "001 (-1.00)\n",
      "Score: -1.00\n",
      "Size: 319.00\n",
      "m: -0.77, r: -1.00\n",
      "No. of activated beams: 16\n",
      "Mean Doppler Shift:\n",
      "Mean Channel:\n",
      "\n"
     ]
    },
    {
     "data": {
      "image/png": "[encoded data removed]",
      "text/plain": [
       "<Figure size 432x288 with 1 Axes>"
      ]
     },
     "metadata": {},
     "output_type": "display_data"
    }
   ],
   "source": [
    "csv_files = find_csv_filenames(ROOT)\n",
    "plot_candidates(ROOT, csv_files)\n"
   ]
  },
  {
   "cell_type": "code",
   "execution_count": 3,
   "metadata": {},
   "outputs": [
    {
     "ename": "IndexError",
     "evalue": "list index out of range",
     "output_type": "error",
     "traceback": [
      "\u001b[0;31m---------------------------------------------------------------------------\u001b[0m",
      "\u001b[0;31mIndexError\u001b[0m                                Traceback (most recent call last)",
      "\u001b[0;32m<ipython-input-3-e7c5561ef02b>\u001b[0m in \u001b[0;36m<module>\u001b[0;34m()\u001b[0m\n\u001b[1;32m      1\u001b[0m \u001b[0;31m# Bandpass plot (SNR against time)\u001b[0m\u001b[0;34m\u001b[0m\u001b[0;34m\u001b[0m\u001b[0m\n\u001b[0;32m----> 2\u001b[0;31m \u001b[0;32mprint\u001b[0m \u001b[0mcsv_files\u001b[0m\u001b[0;34m[\u001b[0m\u001b[0;36m1\u001b[0m\u001b[0;34m]\u001b[0m\u001b[0;34m\u001b[0m\u001b[0m\n\u001b[0m\u001b[1;32m      3\u001b[0m \u001b[0mdf\u001b[0m \u001b[0;34m=\u001b[0m \u001b[0mpd\u001b[0m\u001b[0;34m.\u001b[0m\u001b[0mread_csv\u001b[0m\u001b[0;34m(\u001b[0m\u001b[0mos\u001b[0m\u001b[0;34m.\u001b[0m\u001b[0mpath\u001b[0m\u001b[0;34m.\u001b[0m\u001b[0mjoin\u001b[0m\u001b[0;34m(\u001b[0m\u001b[0mDEBUG_DIR\u001b[0m\u001b[0;34m,\u001b[0m \u001b[0mROOT\u001b[0m\u001b[0;34m,\u001b[0m \u001b[0mcsv_files\u001b[0m\u001b[0;34m[\u001b[0m\u001b[0;36m1\u001b[0m\u001b[0;34m]\u001b[0m\u001b[0;34m)\u001b[0m\u001b[0;34m,\u001b[0m \u001b[0mparse_dates\u001b[0m\u001b[0;34m=\u001b[0m\u001b[0;34m[\u001b[0m\u001b[0;34m'time'\u001b[0m\u001b[0;34m]\u001b[0m\u001b[0;34m)\u001b[0m\u001b[0;34m\u001b[0m\u001b[0m\n\u001b[1;32m      4\u001b[0m \u001b[0mdf\u001b[0m\u001b[0;34m.\u001b[0m\u001b[0mplot\u001b[0m\u001b[0;34m(\u001b[0m\u001b[0mx\u001b[0m\u001b[0;34m=\u001b[0m\u001b[0;34m'time_sample'\u001b[0m\u001b[0;34m,\u001b[0m \u001b[0my\u001b[0m\u001b[0;34m=\u001b[0m\u001b[0;34m'snr'\u001b[0m\u001b[0;34m,\u001b[0m\u001b[0mcolor\u001b[0m\u001b[0;34m=\u001b[0m\u001b[0mnext\u001b[0m\u001b[0;34m(\u001b[0m\u001b[0mcolors\u001b[0m\u001b[0;34m)\u001b[0m\u001b[0;34m,\u001b[0m \u001b[0mtitle\u001b[0m\u001b[0;34m=\u001b[0m\u001b[0;34m'SNR v. Time'\u001b[0m\u001b[0;34m)\u001b[0m\u001b[0;34m\u001b[0m\u001b[0m\n",
      "\u001b[0;31mIndexError\u001b[0m: list index out of range"
     ]
    }
   ],
   "source": [
    "# Bandpass plot (SNR against time)\n",
    "print csv_files[1]\n",
    "df = pd.read_csv(os.path.join(DEBUG_DIR, ROOT, csv_files[1]), parse_dates=['time'])\n",
    "df.plot(x='time_sample', y='snr',color=next(colors), title='SNR v. Time')"
   ]
  },
  {
   "cell_type": "code",
   "execution_count": null,
   "metadata": {},
   "outputs": [],
   "source": [
    "df.plot(x='channel', y='snr',color=next(colors), title='SNR v. Channel')"
   ]
  },
  {
   "cell_type": "code",
   "execution_count": null,
   "metadata": {},
   "outputs": [],
   "source": [
    "df['t1'] = df['time_sample'] * 0.1048576\n",
    "df['c1'] = df['channel']\n",
    "\n",
    "slope1, intercept, r_value, p_value, std_err = stats.linregress(df['t1'],df['c1'])   \n",
    "\n",
    "print(slope1*1e6,r_value)\n",
    "\n",
    "slope2, intercept, r_value, p_value, std_err = stats.linregress(df['time_sample'],df['channel'])   \n",
    "print(slope2 / (np.timedelta64(104857600, 'ns') / np.timedelta64(1, 's')) * 1e6, r_value)\n",
    "\n",
    "slope2 * 0.1048576 / 1e6"
   ]
  }
 ],
 "metadata": {
  "kernelspec": {
   "display_name": "Python 2",
   "language": "python",
   "name": "python2"
  },
  "language_info": {
   "codemirror_mode": {
    "name": "ipython",
    "version": 2
   },
   "file_extension": ".py",
   "mimetype": "text/x-python",
   "name": "python",
   "nbconvert_exporter": "python",
   "pygments_lexer": "ipython2",
   "version": "2.7.12"
  }
 },
 "nbformat": 4,
 "nbformat_minor": 1
}
