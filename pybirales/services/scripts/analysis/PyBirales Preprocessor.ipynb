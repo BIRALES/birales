{
 "cells": [
  {
   "cell_type": "code",
   "execution_count": 1,
   "metadata": {},
   "outputs": [
    {
     "name": "stderr",
     "output_type": "stream",
     "text": [
      "WARNING:root:CasaCore not found.\n",
      "WARNING:root:casacore not found.\n",
      "WARNING:root:casacore not found.\n"
     ]
    }
   ],
   "source": [
    "import numpy as np\n",
    "import matplotlib\n",
    "import matplotlib.pyplot as plt\n",
    "%matplotlib inline\n",
    "import pandas as pd\n",
    "from astropy.io import fits\n",
    "import os\n",
    "import datetime\n",
    "from matplotlib.colors import LogNorm\n",
    "from pybirales.birales import BiralesFacade\n",
    "from pybirales.birales_config import BiralesConfig\n",
    "from pybirales.pipeline.modules.detection.preprocessor import PreProcessor\n",
    "from pybirales.pipeline.modules.detection.dbscan_detection import _validate, _create, detect, partition_input_data, dbscan_clustering,create_clusters \n",
    "from pybirales.pipeline.modules.detection.exceptions import DetectionClusterIsNotValid\n",
    "from pybirales.pipeline.modules.detection.queue import BeamCandidatesQueue\n",
    "from pybirales.pipeline.modules.detection.space_debris_candidate import SpaceDebrisTrack\n",
    "from scipy import stats\n",
    "from pybirales import settings\n",
    "\n",
    "matplotlib.rcParams['figure.figsize'] = (12, 10)"
   ]
  },
  {
   "cell_type": "code",
   "execution_count": 2,
   "metadata": {},
   "outputs": [],
   "source": [
    "# Global variables\n",
    "HOME_DIR = os.environ['HOME']\n",
    "FITS_DIR = os.path.join(HOME_DIR, '.birales/visualisation/fits/')\n",
    "FITS_FILENAME = 'Observation_2018-04-11T1010/Observation_2018-04-11T1010_raw.fits'\n",
    "BEAM_ID = 4\n",
    "OBS_INFO = {\n",
    "    'start_center_frequency':410.0703125,\n",
    "    'channel_bandwidth':9.5367431640625e-06,\n",
    "    'transmitter_frequency': 410.105,\n",
    "    'timestamp': datetime.datetime(2017, 6, 30, 12, 13, 30, 455859),\n",
    "    'sampling_time':0.1048576,\n",
    "    'nchans': 8192,\n",
    "}\n",
    "BIRALES_CONFIG = os.path.join(HOME_DIR, '.birales/configuration/birales.ini')\n",
    "DETECTION_CONFIG = os.path.join(HOME_DIR, '.birales/configuration/detection.ini')"
   ]
  },
  {
   "cell_type": "code",
   "execution_count": 3,
   "metadata": {},
   "outputs": [
    {
     "name": "stderr",
     "output_type": "stream",
     "text": [
      "2018-04-12 10:36:17,216 INFO     26817 MainProcess     MainThread           Loading configuration files\n",
      "2018-04-12 10:36:17,218 INFO     26817 MainProcess     MainThread           Loading the /home/denis/.birales/configuration/birales.ini configuration file.\n",
      "2018-04-12 10:36:17,223 INFO     26817 MainProcess     MainThread           Loaded the /home/denis/.birales/configuration/birales.ini configuration file.\n",
      "2018-04-12 10:36:17,225 INFO     26817 MainProcess     MainThread           Loading the /home/denis/.birales/configuration/detection.ini configuration file.\n",
      "2018-04-12 10:36:17,227 INFO     26817 MainProcess     MainThread           Loaded the /home/denis/.birales/configuration/detection.ini configuration file.\n",
      "2018-04-12 10:36:17,229 INFO     26817 MainProcess     MainThread           Loading the /home/denis/.venv/birales/local/lib/python2.7/site-packages/pybirales/configuration/backend/roach_backend.ini configuration file.\n",
      "2018-04-12 10:36:17,231 INFO     26817 MainProcess     MainThread           Loaded the /home/denis/.venv/birales/local/lib/python2.7/site-packages/pybirales/configuration/backend/roach_backend.ini configuration file.\n",
      "2018-04-12 10:36:17,238 INFO     26817 MainProcess     MainThread           Configurations successfully loaded.\n",
      "2018-04-12 10:36:17,240 INFO     26817 MainProcess     MainThread           Successfully connected to the birales database\n"
     ]
    }
   ],
   "source": [
    "# Load the BIRALES configuration from file\n",
    "config = BiralesConfig([BIRALES_CONFIG, DETECTION_CONFIG], {})\n",
    "\n",
    "# Initialise the Birales Facade (BOSS)\n",
    "bf = BiralesFacade(configuration=config)\n",
    "\n"
   ]
  },
  {
   "cell_type": "code",
   "execution_count": 4,
   "metadata": {},
   "outputs": [
    {
     "name": "stdout",
     "output_type": "stream",
     "text": [
      "('Filtered image shape:', (1, 8192, 288))\n",
      "5\n"
     ]
    }
   ],
   "source": [
    "raw_fits_filepath = os.path.join(FITS_DIR, FITS_FILENAME)\n",
    "input_data = fits.getdata(raw_fits_filepath)\n",
    "print ('Filtered image shape:', input_data.shape)\n",
    "print settings.detection.n_noise_samples\n"
   ]
  },
  {
   "cell_type": "code",
   "execution_count": 22,
   "metadata": {},
   "outputs": [
    {
     "data": {
      "text/plain": [
       "(1, 8192, 96)"
      ]
     },
     "execution_count": 22,
     "metadata": {},
     "output_type": "execute_result"
    }
   ],
   "source": [
    "# Get the first N blobs of data, on which the noise estimate will be calculated\n",
    "# Skip the first two blobs\n",
    "data = input_data[:,:, 32*2:32 * settings.detection.n_noise_samples]\n",
    "data.shape"
   ]
  },
  {
   "cell_type": "code",
   "execution_count": 29,
   "metadata": {},
   "outputs": [
    {
     "data": {
      "text/plain": [
       "(1, 8192)"
      ]
     },
     "execution_count": 29,
     "metadata": {},
     "output_type": "execute_result"
    }
   ],
   "source": [
    "np.sqrt(np.mean(np.power(data, 2.0), axis=2)).shape"
   ]
  },
  {
   "cell_type": "code",
   "execution_count": 76,
   "metadata": {},
   "outputs": [
    {
     "data": {
      "text/plain": [
       "(1, 8192)"
      ]
     },
     "execution_count": 76,
     "metadata": {},
     "output_type": "execute_result"
    }
   ],
   "source": [
    "power = np.power(np.abs(data), 2.0)\n",
    "power.shape\n",
    "\n",
    "rms_noise = np.sqrt(np.mean(power, axis=2))\n",
    "rms_noise.shape"
   ]
  },
  {
   "cell_type": "code",
   "execution_count": 80,
   "metadata": {},
   "outputs": [
    {
     "data": {
      "text/plain": [
       "(1, 8192)"
      ]
     },
     "execution_count": 80,
     "metadata": {},
     "output_type": "execute_result"
    }
   ],
   "source": [
    "# Determine the Beam Channel Noise\n",
    "rms_noise2 = rms_noise.copy()\n",
    "rms_noise2 *= 1.2\n",
    "\n",
    "noise = np.empty(shape=(1, 8192, 5))\n",
    "noise[:] = np.nan\n",
    "\n",
    "noise[:, :, 0] = rms_noise\n",
    "noise[:, :, 1] = rms_noise2\n",
    "\n",
    "beam_noise = np.nanmean(noise, axis=2)\n",
    "beam_noise.shape"
   ]
  },
  {
   "cell_type": "code",
   "execution_count": 94,
   "metadata": {},
   "outputs": [
    {
     "name": "stdout",
     "output_type": "stream",
     "text": [
      "(33.53048096410884, 2.7315441376022727, 2.7315441376022727, True)\n"
     ]
    }
   ],
   "source": [
    "# Test SNR division\n",
    "snr = input_data / beam_noise[:, :, np.newaxis]\n",
    "\n",
    "beam_id = 0\n",
    "test_channel = 11\n",
    "test_time = 12\n",
    "expected = input_data[beam_id, test_channel, test_time]/ beam_noise[0,test_channel]\n",
    "actual = snr[beam_id, test_channel, test_time]\n",
    "\n",
    "print(beam_noise[0,test_channel], expected, actual, expected == actual)\n"
   ]
  },
  {
   "cell_type": "code",
   "execution_count": 95,
   "metadata": {},
   "outputs": [
    {
     "name": "stdout",
     "output_type": "stream",
     "text": [
      "(10.22626071254055, 46.54869159639895, 24.260943132641238)\n"
     ]
    }
   ],
   "source": [
    "# Noise statistics\n",
    "print (np.min(beam_noise), np.max(beam_noise), np.mean(beam_noise))"
   ]
  }
 ],
 "metadata": {
  "kernelspec": {
   "display_name": "Python 2",
   "language": "python",
   "name": "python2"
  },
  "language_info": {
   "codemirror_mode": {
    "name": "ipython",
    "version": 2
   },
   "file_extension": ".py",
   "mimetype": "text/x-python",
   "name": "python",
   "nbconvert_exporter": "python",
   "pygments_lexer": "ipython2",
   "version": "2.7.12"
  }
 },
 "nbformat": 4,
 "nbformat_minor": 2
}
