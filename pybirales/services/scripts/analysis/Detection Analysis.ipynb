{
 "cells": [
  {
   "cell_type": "code",
   "execution_count": 5,
   "metadata": {},
   "outputs": [],
   "source": [
    "# Analysis script that tests and compares the detection algorithms used in PyBirales\n",
    "# \n",
    "# Possible analysis\n",
    "#  1. Clustering analysis techniques\n",
    "#      How are clustering algorithms evaluated against each other? Confusion matrices.\n",
    "#      Performance (speed) as a function of beam candidates, noise, snr\n",
    "#      Information loss as a function of beam candidates, noise, snr\n",
    "#  2. Compare the following alogirthms based on the above mention metrics\n",
    "#      CFAR\n",
    "#        Hough transform\n",
    "#        Clustering techniques\n",
    "#         DBSCAN\n",
    "#         HDBSCAN\n",
    "#         Multi-pixel clustering\n",
    "#        Astride\n",
    "#        Blob detection\n",
    "#  3. Tracklet linking analysis\n",
    "#      Compare different techniques of linking (e.g. cosine similarity)\n"
   ]
  },
  {
   "cell_type": "code",
   "execution_count": 89,
   "metadata": {},
   "outputs": [],
   "source": [
    "import numpy as np\n",
    "import matplotlib.pyplot as plt\n",
    "%matplotlib inline\n",
    "import pandas as pd\n",
    "import analysis\n",
    "from analysis import sns\n",
    "import os"
   ]
  },
  {
   "cell_type": "code",
   "execution_count": 90,
   "metadata": {},
   "outputs": [],
   "source": [
    "ROOT = \"/home/denis/.birales/visualisation/fits\"\n",
    "FITS_FILE = \"Observation_2019-01-05T1320/Observation_2019-01-05T1320_raw_5.fits\"\n",
    "OUT_DIR = \"/home/denis/.birales/visualisation/analysis\"\n",
    "SAVE_FIGURES = False"
   ]
  },
  {
   "cell_type": "code",
   "execution_count": 125,
   "metadata": {},
   "outputs": [
    {
     "name": "stdout",
     "output_type": "stream",
     "text": [
      "Data shape: 8192 channels and 1600 samples\n"
     ]
    }
   ],
   "source": [
    "hdu_list = fits.open(os.path.join(ROOT, FITS_FILE))\n",
    "image_data = hdu_list[0].data.byteswap().newbyteorder()[0] # get 1 beam\n",
    "print ('Data shape: {} channels and {} samples'.format(image_data.shape[0], image_data.shape[1]))"
   ]
  },
  {
   "cell_type": "code",
   "execution_count": null,
   "metadata": {},
   "outputs": [],
   "source": [
    "# Calculate the probability of false detection (Pfa)"
   ]
  },
  {
   "cell_type": "code",
   "execution_count": null,
   "metadata": {},
   "outputs": [],
   "source": [
    "# Calculate the probability of false detection "
   ]
  }
 ],
 "metadata": {
  "kernelspec": {
   "display_name": "Python 2",
   "language": "python",
   "name": "python2"
  },
  "language_info": {
   "codemirror_mode": {
    "name": "ipython",
    "version": 2
   },
   "file_extension": ".py",
   "mimetype": "text/x-python",
   "name": "python",
   "nbconvert_exporter": "python",
   "pygments_lexer": "ipython2",
   "version": "2.7.12"
  }
 },
 "nbformat": 4,
 "nbformat_minor": 2
}
