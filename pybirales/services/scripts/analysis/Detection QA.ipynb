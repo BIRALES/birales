{
 "cells": [
  {
   "cell_type": "code",
   "execution_count": 218,
   "metadata": {
    "collapsed": false
   },
   "outputs": [],
   "source": [
    "import numpy as np\n",
    "import matplotlib\n",
    "import matplotlib.pyplot as plt\n",
    "%matplotlib inline\n",
    "import pandas as pd\n",
    "import seaborn as sns\n",
    "sns.set(color_codes=True)\n",
    "from astropy.io import fits\n",
    "import os\n",
    "from matplotlib.colors import LogNorm\n",
    "\n",
    "\n",
    "matplotlib.rcParams['figure.figsize'] = (12, 10)"
   ]
  },
  {
   "cell_type": "code",
   "execution_count": 219,
   "metadata": {
    "collapsed": false
   },
   "outputs": [],
   "source": [
    "# Global variables\n",
    "HOME_DIR = os.environ['HOME']\n",
    "FITS_DIR = os.path.join(HOME_DIR, '.birales/visualisation/fits/')\n",
    "TRACK_DIR =  os.path.join(HOME_DIR, '.birales/debug/detection/')\n",
    "\n",
    "FITS_FILENAME = 'Observation_2018-03-22T0934/Observation_2018-03-22T0934_filtered.fits'\n",
    "TRACK_FILENAME = '20180322/BIRALES_OUT_20170630_001.csv'\n",
    "\n",
    "SENSITIVITY_THOLD = 75\n",
    "BEAM_ID = 11"
   ]
  },
  {
   "cell_type": "code",
   "execution_count": 220,
   "metadata": {
    "collapsed": false
   },
   "outputs": [
    {
     "name": "stdout",
     "output_type": "stream",
     "text": [
      "Filtered image shape: (1, 8192, 288)\n",
      "24 detections in track for beam 11\n"
     ]
    }
   ],
   "source": [
    "filtered_fits_filepath = os.path.join(FITS_DIR, FITS_FILENAME)\n",
    "filtered_data = fits.getdata(filtered_fits_filepath)\n",
    "print ('Filtered image shape:', filtered_data.shape)\n",
    "\n",
    "track_filepath = os.path.join(TRACK_DIR, TRACK_FILENAME)\n",
    "track_df = pd.read_csv(track_filepath)\n",
    "if BEAM_ID:\n",
    "    track_df = track_df[track_df['beam_id'] == BEAM_ID]\n",
    "    \n",
    "print(track_df.shape[0], 'detections in track for beam', BEAM_ID)"
   ]
  },
  {
   "cell_type": "code",
   "execution_count": 221,
   "metadata": {
    "collapsed": false
   },
   "outputs": [
    {
     "name": "stdout",
     "output_type": "stream",
     "text": [
      "438 466 161 183\n",
      "Padding is 50 50\n",
      "22.8050054271 28.2843989924\n"
     ]
    }
   ],
   "source": [
    "min_channel, max_channel = track_df['channel_sample'].min(), track_df['channel_sample'].max()\n",
    "min_time, max_time = track_df['time_sample'].min(), track_df['time_sample'].max()\n",
    "\n",
    "# Padding in pixels\n",
    "c_padding = 50\n",
    "t_padding = 50\n",
    "\n",
    "print(min_channel, max_channel, min_time, max_time)\n",
    "print('Padding is', c_padding, t_padding)\n",
    "\n",
    "reduced_filtered_data = filtered_data[0, min_channel-c_padding:max_channel+c_padding, min_time-t_padding:max_time+t_padding]\n",
    "reduced_filtered_data = np.abs(reduced_filtered_data)\n",
    "min_power = track_df['snr'].min()\n",
    "max_power = track_df['snr'].max()\n",
    "log_norm = LogNorm(vmin=min_power, vmax=max_power)\n",
    "\n",
    "print(min_power, max_power)"
   ]
  },
  {
   "cell_type": "code",
   "execution_count": 238,
   "metadata": {
    "collapsed": false
   },
   "outputs": [
    {
     "data": {
      "text/plain": [
       "[<matplotlib.text.Text at 0x7f7dd3a399e8>,\n",
       " <matplotlib.text.Text at 0x7f7dd3c06748>,\n",
       " <matplotlib.text.Text at 0x7f7dd3e38b70>]"
      ]
     },
     "execution_count": 238,
     "metadata": {},
     "output_type": "execute_result"
    },
    {
     "data": {
      "image/png": "[encoded data removed]",
      "text/plain": [
       "<matplotlib.figure.Figure at 0x7f7dd3d9a630>"
      ]
     },
     "metadata": {},
     "output_type": "display_data"
    }
   ],
   "source": [
    "# Show the reduced filtered data\n",
    "fig, (ax_filtered, ax_result) = plt.subplots(1,2)\n",
    "if BEAM_ID:\n",
    "    fig.suptitle('Detection Quality in Beam '+str(BEAM_ID))\n",
    "else:\n",
    "    fig.suptitle('Detection Quality Accross all beams')\n",
    "\n",
    "# Plot the de-noised raw data    \n",
    "im_filtered = ax_filtered.imshow(reduced_filtered_data, aspect='auto',  \n",
    "                                 interpolation='none', cmap=plt.cm.hot, extent=[min_channel,max_channel,min_time,max_time])\n",
    "ax_filtered.set(xlabel='Time', ylabel='Channel ID', title='Filtered raw data')\n",
    "ax_filtered.grid(False)\n",
    "\n",
    "# Plot the detection data\n",
    "result_data = np.zeros(filtered_data.shape)[0, :,:]\n",
    "\n",
    "for index, row in track_df.iterrows():\n",
    "    result_data[row['channel_sample'], row['time_sample']] = filtered_data[0, row['channel_sample'], row['time_sample']]\n",
    "\n",
    "result_data = result_data[min_channel-c_padding:max_channel+c_padding, min_time-t_padding:max_time+t_padding]\n",
    "\n",
    "ax_result.imshow(result_data,cmap=plt.cm.hot,aspect='auto', \n",
    "                 interpolation='none',  extent=[min_channel,max_channel,min_time,max_time])\n",
    "ax_result.grid(False)\n",
    "ax_result.set(xlabel='Time', ylabel='Channel ID',  title='Detection')\n"
   ]
  },
  {
   "cell_type": "code",
   "execution_count": 240,
   "metadata": {
    "collapsed": false
   },
   "outputs": [
    {
     "name": "stdout",
     "output_type": "stream",
     "text": [
      "Expected: 458 Actual 24 Detection Score: 5.24 %\n"
     ]
    }
   ],
   "source": [
    "expected = filtered_data[filtered_data > SENSITIVITY_THOLD].shape[0]\n",
    "\n",
    "actual = track_df.shape[0]\n",
    "\n",
    "print ('Expected:',expected,'Actual', actual, 'Detection Score:', np.round(actual/expected * 100,2),'%')"
   ]
  },
  {
   "cell_type": "code",
   "execution_count": null,
   "metadata": {
    "collapsed": true
   },
   "outputs": [],
   "source": []
  }
 ],
 "metadata": {
  "kernelspec": {
   "display_name": "Python [conda root]",
   "language": "python",
   "name": "conda-root-py"
  },
  "language_info": {
   "codemirror_mode": {
    "name": "ipython",
    "version": 3
   },
   "file_extension": ".py",
   "mimetype": "text/x-python",
   "name": "python",
   "nbconvert_exporter": "python",
   "pygments_lexer": "ipython3",
   "version": "3.5.2"
  }
 },
 "nbformat": 4,
 "nbformat_minor": 2
}
