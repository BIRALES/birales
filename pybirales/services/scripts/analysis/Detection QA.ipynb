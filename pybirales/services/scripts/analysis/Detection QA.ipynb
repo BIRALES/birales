{
 "cells": [
  {
   "cell_type": "code",
   "execution_count": 67,
   "metadata": {
    "collapsed": false
   },
   "outputs": [],
   "source": [
    "import numpy as np\n",
    "import matplotlib\n",
    "import matplotlib.pyplot as plt\n",
    "%matplotlib inline\n",
    "import pandas as pd\n",
    "import seaborn as sns\n",
    "sns.set(color_codes=True)\n",
    "from astropy.io import fits\n",
    "import os\n",
    "\n",
    "matplotlib.rcParams['figure.figsize'] = (12, 10)"
   ]
  },
  {
   "cell_type": "code",
   "execution_count": 68,
   "metadata": {
    "collapsed": false
   },
   "outputs": [],
   "source": [
    "# Global variables\n",
    "HOME_DIR = os.environ['HOME']\n",
    "FITS_DIR = os.path.join(HOME_DIR, '.birales/visualisation/fits/')\n",
    "TRACK_DIR =  os.path.join(HOME_DIR, '.birales/debug/detection/')\n",
    "\n",
    "FITS_FILENAME = 'Observation_2018-03-21T1741/Observation_2018-03-21T1741_filtered.fits'\n",
    "TRACK_FILENAME = '20180321/BIRALES_OUT_20170630_001.csv'\n",
    "\n",
    "SENSITIVITY_THOLD = 75"
   ]
  },
  {
   "cell_type": "code",
   "execution_count": 69,
   "metadata": {
    "collapsed": false
   },
   "outputs": [
    {
     "name": "stdout",
     "output_type": "stream",
     "text": [
      "Filtered image shape: (1, 8192, 288)\n"
     ]
    }
   ],
   "source": [
    "filtered_fits_filepath = os.path.join(FITS_DIR, FITS_FILENAME)\n",
    "filtered_data = fits.getdata(filtered_fits_filepath)\n",
    "\n",
    "print ('Filtered image shape:', filtered_data.shape)\n",
    "\n",
    "track_filepath = os.path.join(TRACK_DIR, TRACK_FILENAME)\n",
    "track_df = pd.read_csv(track_filepath)"
   ]
  },
  {
   "cell_type": "code",
   "execution_count": 70,
   "metadata": {
    "collapsed": false
   },
   "outputs": [
    {
     "name": "stdout",
     "output_type": "stream",
     "text": [
      "Padding is 105 85\n"
     ]
    }
   ],
   "source": [
    "# Reduce the raw image\n",
    "min_channel, max_channel = track_df['channel_sample'].min(), track_df['channel_sample'].max()\n",
    "min_time, max_time = track_df['time_sample'].min(), track_df['time_sample'].max()\n",
    "\n",
    "# Padding in pixels\n",
    "c_padding = int(max_channel-min_channel * 1.05)\n",
    "t_padding = int(max_time - min_time *1.05)\n",
    "\n",
    "print('Padding is', c_padding, t_padding)\n",
    "\n",
    "reduced_filtered_data = filtered_data[0, min_channel-c_padding:max_channel+c_padding, min_time-t_padding:max_time+t_padding]"
   ]
  },
  {
   "cell_type": "code",
   "execution_count": 71,
   "metadata": {
    "collapsed": false
   },
   "outputs": [
    {
     "name": "stdout",
     "output_type": "stream",
     "text": [
      "(333, 212)\n"
     ]
    },
    {
     "data": {
      "text/plain": [
       "<matplotlib.colorbar.Colorbar at 0x7f7dddc97278>"
      ]
     },
     "execution_count": 71,
     "metadata": {},
     "output_type": "execute_result"
    },
    {
     "data": {
      "image/png": "[encoded data removed]",
      "text/plain": [
       "<matplotlib.figure.Figure at 0x7f7dddde3898>"
      ]
     },
     "metadata": {},
     "output_type": "display_data"
    }
   ],
   "source": [
    "# Show the reduced filtered data\n",
    "plt.imshow(reduced_filtered_data)\n",
    "plt.colorbar()"
   ]
  },
  {
   "cell_type": "code",
   "execution_count": 72,
   "metadata": {
    "collapsed": false
   },
   "outputs": [
    {
     "name": "stdout",
     "output_type": "stream",
     "text": [
      "Expected: 491 Actual 186 Detection Score: 37.88 %\n"
     ]
    }
   ],
   "source": [
    "expected = filtered_data[filtered_data > SENSITIVITY_THOLD].shape[0]\n",
    "\n",
    "actual = track_df.shape[0]\n",
    "\n",
    "print ('Expected:',expected,'Actual', actual, 'Detection Score:', np.round(actual/expected * 100,2),'%')"
   ]
  },
  {
   "cell_type": "code",
   "execution_count": null,
   "metadata": {
    "collapsed": true
   },
   "outputs": [],
   "source": []
  }
 ],
 "metadata": {
  "kernelspec": {
   "display_name": "Python [conda root]",
   "language": "python",
   "name": "conda-root-py"
  },
  "language_info": {
   "codemirror_mode": {
    "name": "ipython",
    "version": 3
   },
   "file_extension": ".py",
   "mimetype": "text/x-python",
   "name": "python",
   "nbconvert_exporter": "python",
   "pygments_lexer": "ipython3",
   "version": "3.5.2"
  }
 },
 "nbformat": 4,
 "nbformat_minor": 2
}
