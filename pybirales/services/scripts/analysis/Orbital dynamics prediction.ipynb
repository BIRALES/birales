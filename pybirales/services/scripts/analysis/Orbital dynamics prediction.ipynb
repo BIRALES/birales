{
 "cells": [
  {
   "cell_type": "code",
   "execution_count": 1,
   "metadata": {},
   "outputs": [],
   "source": [
    "from sgp4.earth_gravity import wgs72\n",
    "from sgp4.io import twoline2rv\n"
   ]
  },
  {
   "cell_type": "code",
   "execution_count": 44,
   "metadata": {},
   "outputs": [
    {
     "name": "stdout",
     "output_type": "stream",
     "text": [
      "0\n",
      "None\n",
      "(3451.8499089869188, -4656.84200105969, 4046.27816143786)\n",
      "(-0.39471382747693784, 4.756424937398446, 5.792533731560996)\n",
      "146.735295952 35.0793020499 698105.459402\n"
     ]
    }
   ],
   "source": [
    "line_1 = ('1  4071U 69070B   18284.38859435 -.00000008  00000-0  43558-5 0  9991')\n",
    "line_2 = ('2  4071  74.0470 279.6597 0013387 142.7768 217.4330 14.62737703608215')\n",
    "\n",
    "\n",
    "satellite = twoline2rv(line_1, line_2, wgs72)\n",
    "position, velocity = satellite.propagate(2018, 3, 29, 7, 28, 52)\n",
    "# position, velocity = satellite.propagate(2018, 10, 11, 9, 19, 34)\n",
    "\n",
    "print(satellite.error)    # nonzero on error\n",
    "\n",
    "print(satellite.error_message)\n",
    "\n",
    "print(position)\n",
    "\n",
    "print(velocity)\n",
    "\n",
    "satellite.epoch\n",
    "\n",
    "ecef = pyproj.Proj(proj='geocent', ellps='WGS84', datum='WGS84')\n",
    "lla = pyproj.Proj(proj='latlong', ellps='WGS84', datum='WGS84')\n",
    "lon, lat, alt = pyproj.transform(ecef, lla, x, y, z, radians=False)\n",
    "\n",
    "print lon, lat, alt\n"
   ]
  },
  {
   "cell_type": "code",
   "execution_count": 16,
   "metadata": {},
   "outputs": [
    {
     "name": "stdout",
     "output_type": "stream",
     "text": [
      "35.0793 -53.4526 698.105459402 km\n"
     ]
    }
   ],
   "source": [
    "from astropy.coordinates import Distance, ICRS\n",
    "from astropy import units as u\n",
    "from astropy import coordinates as coord\n",
    "from datetime import datetime\n",
    "from astropy.coordinates import Angle\n",
    "\n",
    "now = datetime.utcnow()\n",
    "\n",
    "x = position[0]\n",
    "y = position[1]\n",
    "z = position[2]\n",
    "\n",
    "\n",
    "el = coord.EarthLocation.from_geocentric(x=x, y=y, z=z, unit=u.km)\n",
    "\n",
    "print el.lat.to_string(decimal=True), el.lon, el.height\n"
   ]
  },
  {
   "cell_type": "code",
   "execution_count": 17,
   "metadata": {},
   "outputs": [
    {
     "ename": "NameError",
     "evalue": "name 'astronomy' is not defined",
     "output_type": "error",
     "traceback": [
      "\u001b[0;31m---------------------------------------------------------------------------\u001b[0m",
      "\u001b[0;31mNameError\u001b[0m                                 Traceback (most recent call last)",
      "\u001b[0;32m<ipython-input-17-03386a282416>\u001b[0m in \u001b[0;36m<module>\u001b[0;34m()\u001b[0m\n\u001b[1;32m     13\u001b[0m \u001b[0mpos_z\u001b[0m \u001b[0;34m/=\u001b[0m \u001b[0mXKMPER\u001b[0m\u001b[0;34m\u001b[0m\u001b[0m\n\u001b[1;32m     14\u001b[0m \u001b[0;34m\u001b[0m\u001b[0m\n\u001b[0;32m---> 15\u001b[0;31m lon = ((np.arctan2(pos_y * XKMPER, pos_x * XKMPER) - astronomy.gmst(now))\n\u001b[0m\u001b[1;32m     16\u001b[0m        % (2 * np.pi))\n\u001b[1;32m     17\u001b[0m \u001b[0;34m\u001b[0m\u001b[0m\n",
      "\u001b[0;31mNameError\u001b[0m: name 'astronomy' is not defined"
     ]
    }
   ],
   "source": [
    "\"\"\"Calculate sublon, sublat and altitude of satellite.\n",
    "        http://celestrak.com/columns/v02n03/\n",
    "\"\"\"\n",
    "\n",
    "XKMPER = 6378.135\n",
    "F = 1 / 298.257223563\n",
    "A = 6378.137  # WGS84 Equatorial radius\n",
    "\n",
    "(pos_x, pos_y, pos_z), (vel_x, vel_y, vel_z) = position, velocity\n",
    "\n",
    "pos_x /= XKMPER\n",
    "pos_y /= XKMPER\n",
    "pos_z /= XKMPER\n",
    "\n",
    "lon = ((np.arctan2(pos_y * XKMPER, pos_x * XKMPER) - astronomy.gmst(now))\n",
    "       % (2 * np.pi))\n",
    "\n",
    "lon = np.where(lon > np.pi, lon - np.pi * 2, lon)\n",
    "lon = np.where(lon <= -np.pi, lon + np.pi * 2, lon)\n",
    "\n",
    "r = np.sqrt(pos_x ** 2 + pos_y ** 2)\n",
    "lat = np.arctan2(pos_z, r)\n",
    "e2 = F * (2 - F)\n",
    "while True:\n",
    "    lat2 = lat\n",
    "    c = 1 / (np.sqrt(1 - e2 * (np.sin(lat2) ** 2)))\n",
    "    lat = np.arctan2(pos_z + c * e2 * np.sin(lat2), r)\n",
    "    if np.all(abs(lat - lat2) < 1e-10):\n",
    "        break\n",
    "alt = r / np.cos(lat) - c\n",
    "alt *= A\n",
    "print np.rad2deg(lon), np.rad2deg(lat), alt\n",
    "\n",
    "\n",
    "\n"
   ]
  },
  {
   "cell_type": "code",
   "execution_count": 40,
   "metadata": {},
   "outputs": [
    {
     "name": "stdout",
     "output_type": "stream",
     "text": [
      "[-4846.863538656284, 3179.5218279878045, 4046.27816143786]\n",
      "35.0793 146.735 698.105459402 km\n"
     ]
    }
   ],
   "source": [
    "from sgp4.ext import jday\n",
    "from sgp4.propagation import _gstime\n",
    "import numpy as np\n",
    "\n",
    "def calcTg(date):\n",
    "\n",
    "    jdut1 = jday(date.year, date.month, date.day, date.hour, date.minute, date.second)\n",
    "    Tg = _gstime(jdut1)\n",
    "\n",
    "    return Tg\n",
    "\n",
    "def sat2ecef(satellite, Tg):\n",
    "    \"\"\"\n",
    "    Calculate satellite's position in ecef(Earth Centered Earth Fixed)\n",
    "    input:\n",
    "        satellite(array): [x, y, z]\n",
    "    output:\n",
    "        position(array): [x, y, z]\n",
    "    \"\"\"\n",
    "\n",
    "    conv1 = np.matrix([[np.cos(Tg), np.sin(Tg), 0],\\\n",
    "                      [-np.sin(Tg), np.cos(Tg), 0],\\\n",
    "                      [0, 0, 1]])\n",
    "    source = np.matrix([satellite[0], satellite[1], satellite[2]]).transpose()\n",
    "\n",
    "    coordinates = conv1 * source\n",
    "    return [coordinates[0, 0], coordinates[1, 0], coordinates[2, 0]]\n",
    "\n",
    "\n",
    "Tg = calcTg(satellite.epoch) \n",
    "satECEF = sat2ecef(position, Tg)\n",
    "# result = sat2direction([36,140,30], satECEF)\n",
    "\n",
    "print (satECEF)\n",
    "\n",
    "\n",
    "el = coord.EarthLocation.from_geocentric(x=satECEF[0], y=satECEF[1], z=satECEF[2], unit=u.km)\n",
    "\n",
    "print el.lat.to_string(decimal=True), el.lon.to_string(decimal=True), el.height\n",
    "\n",
    "# print(observeTime.strftime(\"%c\")+\" Azimuth:\"+str(result[0]) + \" Elevation:\"+str(result[1]))\n"
   ]
  },
  {
   "cell_type": "code",
   "execution_count": 39,
   "metadata": {},
   "outputs": [
    {
     "name": "stdout",
     "output_type": "stream",
     "text": [
      "(3451.8499089869188, -4656.84200105969, 4046.27816143786)\n",
      "146.735295952 35.0793020499 698105.459402\n"
     ]
    }
   ],
   "source": [
    "import pyproj\n",
    "print position\n",
    "\n",
    "# x= 652954.1006\n",
    "# y = 4774619.7919\n",
    "# z =-4167647.7937\n",
    "\n",
    "x = position[0] * 1000\n",
    "y = position[1] * 1000\n",
    "z = position[2] * 1000\n",
    "\n",
    "\n",
    "x = satECEF[0] * 1000 \n",
    "y = satECEF[1] * 1000\n",
    "z = satECEF[2] * 1000\n",
    "\n",
    "ecef = pyproj.Proj(proj='geocent', ellps='WGS84', datum='WGS84')\n",
    "lla = pyproj.Proj(proj='latlong', ellps='WGS84', datum='WGS84')\n",
    "lon, lat, alt = pyproj.transform(ecef, lla, x, y, z, radians=False)\n",
    "\n",
    "print lon, lat, alt\n"
   ]
  },
  {
   "cell_type": "code",
   "execution_count": 55,
   "metadata": {},
   "outputs": [
    {
     "name": "stdout",
     "output_type": "stream",
     "text": [
      "3451849.90899 -4656842.00106 4046278.16144\n"
     ]
    },
    {
     "ename": "RuntimeError",
     "evalue": "unknown projection id",
     "output_type": "error",
     "traceback": [
      "\u001b[0;31m---------------------------------------------------------------------------\u001b[0m",
      "\u001b[0;31mRuntimeError\u001b[0m                              Traceback (most recent call last)",
      "\u001b[0;32m<ipython-input-55-2ce32bada2ce>\u001b[0m in \u001b[0;36m<module>\u001b[0;34m()\u001b[0m\n\u001b[1;32m     15\u001b[0m \u001b[0mlla\u001b[0m \u001b[0;34m=\u001b[0m \u001b[0mpyproj\u001b[0m\u001b[0;34m.\u001b[0m\u001b[0mProj\u001b[0m\u001b[0;34m(\u001b[0m\u001b[0mproj\u001b[0m\u001b[0;34m=\u001b[0m\u001b[0;34m'latlong'\u001b[0m\u001b[0;34m,\u001b[0m \u001b[0mellps\u001b[0m\u001b[0;34m=\u001b[0m\u001b[0;34m'WGS84'\u001b[0m\u001b[0;34m,\u001b[0m \u001b[0mdatum\u001b[0m\u001b[0;34m=\u001b[0m\u001b[0;34m'WGS84'\u001b[0m\u001b[0;34m)\u001b[0m\u001b[0;34m\u001b[0m\u001b[0m\n\u001b[1;32m     16\u001b[0m \u001b[0;34m\u001b[0m\u001b[0m\n\u001b[0;32m---> 17\u001b[0;31m \u001b[0minp\u001b[0m \u001b[0;34m=\u001b[0m \u001b[0mpyproj\u001b[0m\u001b[0;34m.\u001b[0m\u001b[0mProj\u001b[0m\u001b[0;34m(\u001b[0m\u001b[0mproj\u001b[0m\u001b[0;34m=\u001b[0m\u001b[0;34m'eci'\u001b[0m\u001b[0;34m,\u001b[0m \u001b[0mellps\u001b[0m\u001b[0;34m=\u001b[0m\u001b[0;34m'WGS84'\u001b[0m\u001b[0;34m,\u001b[0m \u001b[0mdatum\u001b[0m\u001b[0;34m=\u001b[0m\u001b[0;34m'WGS84'\u001b[0m\u001b[0;34m)\u001b[0m\u001b[0;34m\u001b[0m\u001b[0m\n\u001b[0m\u001b[1;32m     18\u001b[0m \u001b[0mlon\u001b[0m\u001b[0;34m,\u001b[0m \u001b[0mlat\u001b[0m\u001b[0;34m,\u001b[0m \u001b[0malt\u001b[0m \u001b[0;34m=\u001b[0m \u001b[0mpyproj\u001b[0m\u001b[0;34m.\u001b[0m\u001b[0mtransform\u001b[0m\u001b[0;34m(\u001b[0m\u001b[0minp\u001b[0m\u001b[0;34m,\u001b[0m \u001b[0mlla\u001b[0m\u001b[0;34m,\u001b[0m \u001b[0mx\u001b[0m\u001b[0;34m,\u001b[0m \u001b[0my\u001b[0m\u001b[0;34m,\u001b[0m \u001b[0mz\u001b[0m\u001b[0;34m,\u001b[0m \u001b[0mradians\u001b[0m\u001b[0;34m=\u001b[0m\u001b[0mFalse\u001b[0m\u001b[0;34m)\u001b[0m\u001b[0;34m\u001b[0m\u001b[0m\n\u001b[1;32m     19\u001b[0m \u001b[0;34m\u001b[0m\u001b[0m\n",
      "\u001b[0;32m/home/denis/.venv/birales/local/lib/python2.7/site-packages/pyproj/__init__.pyc\u001b[0m in \u001b[0;36m__new__\u001b[0;34m(self, projparams, preserve_units, **kwargs)\u001b[0m\n\u001b[1;32m    356\u001b[0m         \u001b[0;31m# on case-insensitive filesystems).\u001b[0m\u001b[0;34m\u001b[0m\u001b[0;34m\u001b[0m\u001b[0m\n\u001b[1;32m    357\u001b[0m         \u001b[0mprojstring\u001b[0m \u001b[0;34m=\u001b[0m \u001b[0mprojstring\u001b[0m\u001b[0;34m.\u001b[0m\u001b[0mreplace\u001b[0m\u001b[0;34m(\u001b[0m\u001b[0;34m'EPSG'\u001b[0m\u001b[0;34m,\u001b[0m\u001b[0;34m'epsg'\u001b[0m\u001b[0;34m)\u001b[0m\u001b[0;34m\u001b[0m\u001b[0m\n\u001b[0;32m--> 358\u001b[0;31m         \u001b[0;32mreturn\u001b[0m \u001b[0m_proj\u001b[0m\u001b[0;34m.\u001b[0m\u001b[0mProj\u001b[0m\u001b[0;34m.\u001b[0m\u001b[0m__new__\u001b[0m\u001b[0;34m(\u001b[0m\u001b[0mself\u001b[0m\u001b[0;34m,\u001b[0m \u001b[0mprojstring\u001b[0m\u001b[0;34m)\u001b[0m\u001b[0;34m\u001b[0m\u001b[0m\n\u001b[0m\u001b[1;32m    359\u001b[0m \u001b[0;34m\u001b[0m\u001b[0m\n\u001b[1;32m    360\u001b[0m     \u001b[0;32mdef\u001b[0m \u001b[0m__call__\u001b[0m\u001b[0;34m(\u001b[0m\u001b[0mself\u001b[0m\u001b[0;34m,\u001b[0m \u001b[0;34m*\u001b[0m\u001b[0margs\u001b[0m\u001b[0;34m,\u001b[0m \u001b[0;34m**\u001b[0m\u001b[0mkw\u001b[0m\u001b[0;34m)\u001b[0m\u001b[0;34m:\u001b[0m\u001b[0;34m\u001b[0m\u001b[0m\n",
      "\u001b[0;32m_proj.pyx\u001b[0m in \u001b[0;36m_proj.Proj.__cinit__ (_proj.c:1170)\u001b[0;34m()\u001b[0m\n",
      "\u001b[0;31mRuntimeError\u001b[0m: unknown projection id"
     ]
    }
   ],
   "source": [
    "line_1 = ('1  4071U 69070B   18284.38859435 -.00000008  00000-0  43558-5 0  9991')\n",
    "line_2 = ('2  4071  74.0470 279.6597 0013387 142.7768 217.4330 14.62737703608215')\n",
    "\n",
    "satellite = twoline2rv(line_1, line_2, wgs72)\n",
    "position, velocity = satellite.propagate(2018, 3, 29, 7, 28, 52)\n",
    "# position, velocity = satellite.propagate(2018, 10, 11, 9, 19, 34)\n",
    "\n",
    "x = position[0] * 1000\n",
    "y = position[1] * 1000\n",
    "z = position[2] * 1000\n",
    "\n",
    "print x, y, z\n",
    "\n",
    "# ecef = pyproj.Proj(proj='geocent', ellps='WGS84', datum='WGS84')\n",
    "# lla = pyproj.Proj(proj='latlong', ellps='WGS84', datum='WGS84')\n",
    "\n",
    "# inp = pyproj.Proj(proj='eci', ellps='WGS84', datum='WGS84')\n",
    "# lon, lat, alt = pyproj.transform(inp, lla, x, y, z, radians=False)\n",
    "\n",
    "# print lon, lat, alt\n",
    "\n",
    "t = Time('2010-01-01 00:00:00', format='iso', scale='utc')\n",
    "\n",
    "lon = np.arctan(y/x) - \n",
    "\n",
    "\n",
    "\n",
    "\n",
    "\n",
    "\n",
    "\n"
   ]
  },
  {
   "cell_type": "code",
   "execution_count": 76,
   "metadata": {},
   "outputs": [
    {
     "ename": "KeyError",
     "evalue": "\"Found no TLE entry for 'Y'\"",
     "output_type": "error",
     "traceback": [
      "\u001b[0;31m---------------------------------------------------------------------------\u001b[0m",
      "\u001b[0;31mKeyError\u001b[0m                                  Traceback (most recent call last)",
      "\u001b[0;32m<ipython-input-76-3019a5c15085>\u001b[0m in \u001b[0;36m<module>\u001b[0;34m()\u001b[0m\n\u001b[1;32m      5\u001b[0m \u001b[0;34m\u001b[0m\u001b[0m\n\u001b[1;32m      6\u001b[0m \u001b[0;34m\u001b[0m\u001b[0m\n\u001b[0;32m----> 7\u001b[0;31m \u001b[0mo\u001b[0m \u001b[0;34m=\u001b[0m \u001b[0morbital\u001b[0m\u001b[0;34m.\u001b[0m\u001b[0mOrbital\u001b[0m\u001b[0;34m(\u001b[0m\u001b[0;34m'y'\u001b[0m\u001b[0;34m)\u001b[0m\u001b[0;34m\u001b[0m\u001b[0m\n\u001b[0m\u001b[1;32m      8\u001b[0m \u001b[0;34m\u001b[0m\u001b[0m\n\u001b[1;32m      9\u001b[0m \u001b[0;31m# orb = orbital.OrbitElements(tle)\u001b[0m\u001b[0;34m\u001b[0m\u001b[0;34m\u001b[0m\u001b[0m\n",
      "\u001b[0;32m/home/denis/.venv/birales/local/lib/python2.7/site-packages/pyorbital/orbital.pyc\u001b[0m in \u001b[0;36m__init__\u001b[0;34m(self, satellite, tle_file, line1, line2)\u001b[0m\n\u001b[1;32m    140\u001b[0m         \u001b[0mself\u001b[0m\u001b[0;34m.\u001b[0m\u001b[0msatellite_name\u001b[0m \u001b[0;34m=\u001b[0m \u001b[0msatellite\u001b[0m\u001b[0;34m\u001b[0m\u001b[0m\n\u001b[1;32m    141\u001b[0m         self.tle = tlefile.read(satellite, tle_file=tle_file,\n\u001b[0;32m--> 142\u001b[0;31m                                 line1=line1, line2=line2)\n\u001b[0m\u001b[1;32m    143\u001b[0m         \u001b[0mself\u001b[0m\u001b[0;34m.\u001b[0m\u001b[0morbit_elements\u001b[0m \u001b[0;34m=\u001b[0m \u001b[0mOrbitElements\u001b[0m\u001b[0;34m(\u001b[0m\u001b[0mself\u001b[0m\u001b[0;34m.\u001b[0m\u001b[0mtle\u001b[0m\u001b[0;34m)\u001b[0m\u001b[0;34m\u001b[0m\u001b[0m\n\u001b[1;32m    144\u001b[0m         \u001b[0mself\u001b[0m\u001b[0;34m.\u001b[0m\u001b[0m_sgdp4\u001b[0m \u001b[0;34m=\u001b[0m \u001b[0m_SGDP4\u001b[0m\u001b[0;34m(\u001b[0m\u001b[0mself\u001b[0m\u001b[0;34m.\u001b[0m\u001b[0morbit_elements\u001b[0m\u001b[0;34m)\u001b[0m\u001b[0;34m\u001b[0m\u001b[0m\n",
      "\u001b[0;32m/home/denis/.venv/birales/local/lib/python2.7/site-packages/pyorbital/tlefile.pyc\u001b[0m in \u001b[0;36mread\u001b[0;34m(platform, tle_file, line1, line2)\u001b[0m\n\u001b[1;32m    144\u001b[0m    \u001b[0mprovided\u001b[0m\u001b[0;34m.\u001b[0m\u001b[0;34m\u001b[0m\u001b[0m\n\u001b[1;32m    145\u001b[0m    \"\"\"\n\u001b[0;32m--> 146\u001b[0;31m     \u001b[0;32mreturn\u001b[0m \u001b[0mTle\u001b[0m\u001b[0;34m(\u001b[0m\u001b[0mplatform\u001b[0m\u001b[0;34m,\u001b[0m \u001b[0mtle_file\u001b[0m\u001b[0;34m=\u001b[0m\u001b[0mtle_file\u001b[0m\u001b[0;34m,\u001b[0m \u001b[0mline1\u001b[0m\u001b[0;34m=\u001b[0m\u001b[0mline1\u001b[0m\u001b[0;34m,\u001b[0m \u001b[0mline2\u001b[0m\u001b[0;34m=\u001b[0m\u001b[0mline2\u001b[0m\u001b[0;34m)\u001b[0m\u001b[0;34m\u001b[0m\u001b[0m\n\u001b[0m\u001b[1;32m    147\u001b[0m \u001b[0;34m\u001b[0m\u001b[0m\n\u001b[1;32m    148\u001b[0m \u001b[0;34m\u001b[0m\u001b[0m\n",
      "\u001b[0;32m/home/denis/.venv/birales/local/lib/python2.7/site-packages/pyorbital/tlefile.pyc\u001b[0m in \u001b[0;36m__init__\u001b[0;34m(self, platform, tle_file, line1, line2)\u001b[0m\n\u001b[1;32m    195\u001b[0m         \u001b[0mself\u001b[0m\u001b[0;34m.\u001b[0m\u001b[0morbit\u001b[0m \u001b[0;34m=\u001b[0m \u001b[0mNone\u001b[0m\u001b[0;34m\u001b[0m\u001b[0m\n\u001b[1;32m    196\u001b[0m \u001b[0;34m\u001b[0m\u001b[0m\n\u001b[0;32m--> 197\u001b[0;31m         \u001b[0mself\u001b[0m\u001b[0;34m.\u001b[0m\u001b[0m_read_tle\u001b[0m\u001b[0;34m(\u001b[0m\u001b[0;34m)\u001b[0m\u001b[0;34m\u001b[0m\u001b[0m\n\u001b[0m\u001b[1;32m    198\u001b[0m         \u001b[0mself\u001b[0m\u001b[0;34m.\u001b[0m\u001b[0m_checksum\u001b[0m\u001b[0;34m(\u001b[0m\u001b[0;34m)\u001b[0m\u001b[0;34m\u001b[0m\u001b[0m\n\u001b[1;32m    199\u001b[0m         \u001b[0mself\u001b[0m\u001b[0;34m.\u001b[0m\u001b[0m_parse_tle\u001b[0m\u001b[0;34m(\u001b[0m\u001b[0;34m)\u001b[0m\u001b[0;34m\u001b[0m\u001b[0m\n",
      "\u001b[0;32m/home/denis/.venv/birales/local/lib/python2.7/site-packages/pyorbital/tlefile.pyc\u001b[0m in \u001b[0;36m_read_tle\u001b[0;34m(self)\u001b[0m\n\u001b[1;32m    278\u001b[0m \u001b[0;34m\u001b[0m\u001b[0m\n\u001b[1;32m    279\u001b[0m             \u001b[0;32mif\u001b[0m \u001b[0;32mnot\u001b[0m \u001b[0mtle\u001b[0m\u001b[0;34m:\u001b[0m\u001b[0;34m\u001b[0m\u001b[0m\n\u001b[0;32m--> 280\u001b[0;31m                 \u001b[0;32mraise\u001b[0m \u001b[0mKeyError\u001b[0m\u001b[0;34m(\u001b[0m\u001b[0;34m\"Found no TLE entry for '%s'\"\u001b[0m \u001b[0;34m%\u001b[0m \u001b[0mself\u001b[0m\u001b[0;34m.\u001b[0m\u001b[0m_platform\u001b[0m\u001b[0;34m)\u001b[0m\u001b[0;34m\u001b[0m\u001b[0m\n\u001b[0m\u001b[1;32m    281\u001b[0m \u001b[0;34m\u001b[0m\u001b[0m\n\u001b[1;32m    282\u001b[0m         \u001b[0mself\u001b[0m\u001b[0;34m.\u001b[0m\u001b[0m_line1\u001b[0m\u001b[0;34m,\u001b[0m \u001b[0mself\u001b[0m\u001b[0;34m.\u001b[0m\u001b[0m_line2\u001b[0m \u001b[0;34m=\u001b[0m \u001b[0mtle\u001b[0m\u001b[0;34m.\u001b[0m\u001b[0msplit\u001b[0m\u001b[0;34m(\u001b[0m\u001b[0;34m'\\n'\u001b[0m\u001b[0;34m)\u001b[0m\u001b[0;34m\u001b[0m\u001b[0m\n",
      "\u001b[0;31mKeyError\u001b[0m: \"Found no TLE entry for 'Y'\""
     ]
    }
   ],
   "source": [
    "from pyorbital import tlefile, orbital\n",
    "tle = tlefile.Tle(\"x\",line1=line_1, line2=line_2)\n",
    "tle.inclination\n",
    "\n",
    "\n",
    "\n",
    "o = orbital.Orbital('y')\n",
    "\n",
    "# orb = orbital.OrbitElements(tle)\n",
    "# now = datetime.utcnow()\n",
    "# orb.get_position(now)"
   ]
  }
 ],
 "metadata": {
  "kernelspec": {
   "display_name": "Python 2",
   "language": "python",
   "name": "python2"
  },
  "language_info": {
   "codemirror_mode": {
    "name": "ipython",
    "version": 2
   },
   "file_extension": ".py",
   "mimetype": "text/x-python",
   "name": "python",
   "nbconvert_exporter": "python",
   "pygments_lexer": "ipython2",
   "version": "2.7.12"
  }
 },
 "nbformat": 4,
 "nbformat_minor": 2
}
