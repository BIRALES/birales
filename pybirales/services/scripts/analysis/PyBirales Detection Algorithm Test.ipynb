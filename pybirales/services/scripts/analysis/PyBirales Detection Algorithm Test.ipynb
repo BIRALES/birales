{
 "cells": [
  {
   "cell_type": "code",
   "execution_count": 17,
   "metadata": {},
   "outputs": [
    {
     "name": "stderr",
     "output_type": "stream",
     "text": [
      "2018-04-11 17:55:02,380 DEBUG    12975 MainProcess     MainThread           backend module://ipykernel.pylab.backend_inline version unknown\n"
     ]
    }
   ],
   "source": [
    "import numpy as np\n",
    "import matplotlib\n",
    "import matplotlib.pyplot as plt\n",
    "%matplotlib inline\n",
    "import pandas as pd\n",
    "from astropy.io import fits\n",
    "import os\n",
    "import datetime\n",
    "from matplotlib.colors import LogNorm\n",
    "from pybirales.birales import BiralesFacade\n",
    "from pybirales.birales_config import BiralesConfig\n",
    "from pybirales.pipeline.modules.detection.dbscan_detection import _validate, _create, detect, partition_input_data, dbscan_clustering,create_clusters \n",
    "from pybirales.pipeline.modules.detection.exceptions import DetectionClusterIsNotValid\n",
    "from pybirales.pipeline.modules.detection.queue import BeamCandidatesQueue\n",
    "from pybirales.pipeline.modules.detection.space_debris_candidate import SpaceDebrisTrack\n",
    "from scipy import stats\n",
    "from pybirales import settings\n",
    "\n",
    "matplotlib.rcParams['figure.figsize'] = (12, 10)"
   ]
  },
  {
   "cell_type": "code",
   "execution_count": 2,
   "metadata": {},
   "outputs": [],
   "source": [
    "# Global variables\n",
    "HOME_DIR = os.environ['HOME']\n",
    "FITS_DIR = os.path.join(HOME_DIR, '.birales/visualisation/fits/')\n",
    "FITS_FILENAME = 'Observation_2018-04-11T1010/Observation_2018-04-11T1010_filtered.fits'\n",
    "BEAM_ID = 4\n",
    "OBS_INFO = {\n",
    "    'start_center_frequency':410.0703125,\n",
    "    'channel_bandwidth':9.5367431640625e-06,\n",
    "    'transmitter_frequency': 410.105,\n",
    "    'timestamp': datetime.datetime(2017, 6, 30, 12, 13, 30, 455859),\n",
    "    'sampling_time':0.1048576,\n",
    "    'nchans': 8192,\n",
    "}\n",
    "BIRALES_CONFIG = os.path.join(HOME_DIR, '.birales/configuration/birales.ini')\n",
    "DETECTION_CONFIG = os.path.join(HOME_DIR, '.birales/configuration/detection.ini')"
   ]
  },
  {
   "cell_type": "code",
   "execution_count": 3,
   "metadata": {},
   "outputs": [
    {
     "name": "stderr",
     "output_type": "stream",
     "text": [
      "2018-04-11 17:47:27,666 INFO     12975 MainProcess     MainThread           Loading configuration files\n",
      "2018-04-11 17:47:27,668 INFO     12975 MainProcess     MainThread           Loading the /home/denis/.birales/configuration/birales.ini configuration file.\n",
      "2018-04-11 17:47:27,672 INFO     12975 MainProcess     MainThread           Loaded the /home/denis/.birales/configuration/birales.ini configuration file.\n",
      "2018-04-11 17:47:27,674 INFO     12975 MainProcess     MainThread           Loading the /home/denis/.venv/birales/local/lib/python2.7/site-packages/pybirales/configuration/backend/roach_backend.ini configuration file.\n",
      "2018-04-11 17:47:27,676 INFO     12975 MainProcess     MainThread           Loaded the /home/denis/.venv/birales/local/lib/python2.7/site-packages/pybirales/configuration/backend/roach_backend.ini configuration file.\n",
      "2018-04-11 17:47:27,683 INFO     12975 MainProcess     MainThread           Configurations successfully loaded.\n",
      "2018-04-11 17:47:27,685 INFO     12975 MainProcess     MainThread           Successfully connected to the birales database\n"
     ]
    }
   ],
   "source": [
    "# Load the BIRALES configuration from file\n",
    "config = BiralesConfig([BIRALES_CONFIG, DETECTION_CONFIG], {})\n",
    "\n",
    "# Initialise the Birales Facade (BOSS)\n",
    "bf = BiralesFacade(configuration=config)\n",
    "\n"
   ]
  },
  {
   "cell_type": "code",
   "execution_count": 4,
   "metadata": {},
   "outputs": [
    {
     "name": "stdout",
     "output_type": "stream",
     "text": [
      "('Filtered image shape:', (1, 8192, 288))\n"
     ]
    }
   ],
   "source": [
    "filtered_fits_filepath = os.path.join(FITS_DIR, FITS_FILENAME)\n",
    "input_data = fits.getdata(filtered_fits_filepath)\n",
    "print ('Filtered image shape:', input_data.shape)"
   ]
  },
  {
   "cell_type": "code",
   "execution_count": 5,
   "metadata": {},
   "outputs": [],
   "source": [
    "t0 = np.datetime64(OBS_INFO['timestamp'])\n",
    "td = np.timedelta64(int(OBS_INFO['sampling_time'] * 1e9), 'ns')\n",
    "channels = np.arange(OBS_INFO['start_center_frequency'], OBS_INFO['start_center_frequency'] + OBS_INFO['channel_bandwidth'] * OBS_INFO[\n",
    "                                          'nchans'],\n",
    "                                      OBS_INFO['channel_bandwidth'])"
   ]
  },
  {
   "cell_type": "code",
   "execution_count": 10,
   "metadata": {},
   "outputs": [
    {
     "name": "stdout",
     "output_type": "stream",
     "text": [
      "(3569, 2)\n",
      "Detected 12 unique clusters\n"
     ]
    }
   ],
   "source": [
    "# Run the detection algorithm\n",
    "\n",
    "# Process a slice of the input data\n",
    "beam_ndx, power_data = partition_input_data(input_data, 0)\n",
    "\n",
    "print beam_ndx.shape\n",
    "\n",
    "# Run the clustering algorithm on the beam data\n",
    "labelled_data, power_data = dbscan_clustering(beam_ndx, power_data)\n",
    "\n",
    "unique_clusters = np.unique(labelled_data[:, 2]).tolist()\n",
    "print 'Detected {} unique clusters'.format(len(unique_clusters))"
   ]
  },
  {
   "cell_type": "code",
   "execution_count": 20,
   "metadata": {},
   "outputs": [
    {
     "name": "stdout",
     "output_type": "stream",
     "text": [
      "Rejected 0 because not linear (r=0.85)\n",
      "Rejected 1 because not linear (r=0.91)\n",
      "Cluster 2 is OK (n=29)\n",
      "False None\n",
      "Rejected 3 because not linear (r=0.00)\n",
      "Cluster 4 is OK (n=5)\n",
      "False None\n",
      "Rejected 5 because not linear (r=-0.91)\n",
      "Rejected 6 because not linear (r=0.39)\n",
      "Rejected 7 because not linear (r=0.65)\n",
      "Rejected 8 because not linear (r=-0.70)\n",
      "Rejected 9 because not linear (r=0.17)\n",
      "Rejected 10 because not linear (r=0.80)\n",
      "Rejected 11 because not linear (r=0.63)\n",
      "[]\n"
     ]
    }
   ],
   "source": [
    "for label in unique_clusters:\n",
    "    cluster_data = labelled_data[labelled_data[:, 2] == label]\n",
    "\n",
    "    channel_ndx = cluster_data[:, 0]\n",
    "    time_ndx = cluster_data[:, 1]\n",
    "    \n",
    "    m, _, r_value, _, _ = stats.linregress(channel_ndx, time_ndx)\n",
    "    \n",
    "    if channel_ndx.shape[0] < 3:\n",
    "        print 'Rejected {} because too small (n={})'.format(label, channel_ndx.shape[0])\n",
    "        continue\n",
    "    \n",
    "    if np.abs(r_value) < settings.detection.linearity_thold:\n",
    "        print 'Rejected {} because not linear (r={:0.2f})'.format(label, r_value)\n",
    "        continue\n",
    "        \n",
    "    print 'Cluster {} is OK (n={})'.format(label, channel_ndx.shape[0])\n",
    "    \n",
    "    label_mask = labelled_data[:, 2] == label\n",
    "    valid, cluster = _create(power_data[label_mask], labelled_data[label_mask], channels, t0, td, 0, 1)\n",
    "    \n",
    "    print valid, cluster\n",
    "    \n",
    "\n",
    "print create_clusters(power_data, labelled_data, channels, t0, td, 0, 1)"
   ]
  }
 ],
 "metadata": {
  "kernelspec": {
   "display_name": "Python 2",
   "language": "python",
   "name": "python2"
  },
  "language_info": {
   "codemirror_mode": {
    "name": "ipython",
    "version": 2
   },
   "file_extension": ".py",
   "mimetype": "text/x-python",
   "name": "python",
   "nbconvert_exporter": "python",
   "pygments_lexer": "ipython2",
   "version": "2.7.12"
  }
 },
 "nbformat": 4,
 "nbformat_minor": 2
}
