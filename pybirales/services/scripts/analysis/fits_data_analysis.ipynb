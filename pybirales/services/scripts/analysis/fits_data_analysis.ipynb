{
 "cells": [
  {
   "cell_type": "code",
   "execution_count": 176,
   "metadata": {},
   "outputs": [],
   "source": [
    "import numpy as np\n",
    "import matplotlib.pyplot as plt\n",
    "%matplotlib inline\n",
    "import pandas as pd\n",
    "import seaborn as sns\n",
    "sns.set(color_codes=True)"
   ]
  },
  {
   "cell_type": "code",
   "execution_count": 177,
   "metadata": {
    "collapsed": true
   },
   "outputs": [],
   "source": [
    "from astropy.io import fits"
   ]
  },
  {
   "cell_type": "code",
   "execution_count": 178,
   "metadata": {},
   "outputs": [],
   "source": [
    "ROOT = \"/home/denis/.birales/visualisation/fits/Observation_2018-03-26T1444/\"\n",
    "hdu_list = fits.open(ROOT+\"Observation_2018-03-26T1444_raw.fits\")"
   ]
  },
  {
   "cell_type": "code",
   "execution_count": 179,
   "metadata": {},
   "outputs": [
    {
     "name": "stdout",
     "output_type": "stream",
     "text": [
      "Filename: /home/denis/.birales/visualisation/fits/Observation_2018-03-26T1444/Observation_2018-03-26T1444_raw.fits\n",
      "No.    Name         Type      Cards   Dimensions   Format\n",
      "  0  PRIMARY     PrimaryHDU       7   (2432, 8192, 1)   float64   \n"
     ]
    }
   ],
   "source": [
    "hdu_list.info()"
   ]
  },
  {
   "cell_type": "code",
   "execution_count": 180,
   "metadata": {
    "collapsed": true
   },
   "outputs": [],
   "source": [
    "image_data = hdu_list[0].data"
   ]
  },
  {
   "cell_type": "code",
   "execution_count": 181,
   "metadata": {},
   "outputs": [
    {
     "data": {
      "image/png": "[encoded data removed]",
      "text/plain": [
       "<matplotlib.figure.Figure at 0x7fc728555e10>"
      ]
     },
     "metadata": {},
     "output_type": "display_data"
    }
   ],
   "source": [
    "fig, (ax_filtered) = plt.subplots(1,1)\n",
    "im_filtered = ax_filtered.imshow(image_data[0][5000:6000, 1200:1500],aspect='auto', interpolation='none', cmap=plt.cm.hot)\n",
    "ax_filtered.set(xlabel='Time', ylabel='Channel ID', title='Filtered raw data')\n",
    "ax_filtered.grid(False)"
   ]
  },
  {
   "cell_type": "code",
   "execution_count": 182,
   "metadata": {},
   "outputs": [],
   "source": [
    "NBINS = 1000\n",
    "data = hdu_list[0].data\n",
    "\n",
    "# Process only one beam\n",
    "image_data = data[0, :, :]\n"
   ]
  },
  {
   "cell_type": "code",
   "execution_count": 183,
   "metadata": {},
   "outputs": [
    {
     "name": "stdout",
     "output_type": "stream",
     "text": [
      "331306186.564\n",
      "48267.0362703\n",
      "19.8466432033\n",
      "24.8459692405\n",
      "(array([5618, 5619, 5620, 5621]),)\n"
     ]
    }
   ],
   "source": [
    "summed = np.sum(image_data, axis=1)\n",
    "print(summed.max())\n",
    "mean_summed = np.mean(summed)\n",
    "print(mean_summed)\n",
    "print(image_data.mean())\n",
    "print(np.mean(image_data[5618,]))\n",
    "\n",
    "trans_channels = np.where(summed > mean_summed*np.std())\n",
    "print(trans_channels)"
   ]
  },
  {
   "cell_type": "code",
   "execution_count": 184,
   "metadata": {},
   "outputs": [
    {
     "name": "stdout",
     "output_type": "stream",
     "text": [
      "6.42143106461\n",
      "(8192, 2432)\n",
      "Noise estimate: 5.36\n",
      "Threshold1: 11.97\n",
      "Elements below threshold: 100.00%\n"
     ]
    },
    {
     "data": {
      "image/png": "[encoded data removed]",
      "text/plain": [
       "<matplotlib.figure.Figure at 0x7fc71efdb3c8>"
      ]
     },
     "metadata": {},
     "output_type": "display_data"
    }
   ],
   "source": [
    "\n",
    "\n",
    "print(image_data[5618, 1000])\n",
    "print(image_data.shape)\n",
    "image_data[5619,:] = 0\n",
    "image_data[5620,:] = 0\n",
    "\n",
    "# image_data = image_data[image_data > 0.]\n",
    "# image_data = image_data[image_data < 50]\n",
    "NOISE = np.sqrt(np.mean(image_data**2))\n",
    "THRES1 = 2.*np.std(image_data) + np.mean(image_data)\n",
    "\n",
    "print('Noise estimate: {:0.2f}'.format(NOISE))\n",
    "print('Threshold1: {:0.2f}'.format(THRES1))\n",
    "print('Elements below threshold: {:0.2f}%'.format(image_data[image_data < THRES].shape[0] *100. / image_data.size))\n",
    "\n",
    "#plt.axvline(THRES, color='r', linestyle='dashed', linewidth=2)\n",
    "# histogram = plt.hist(image_data.flatten(), NBINS, normed=True)\n",
    "\n",
    "sns.distplot(image_data.flatten());"
   ]
  },
  {
   "cell_type": "code",
   "execution_count": 185,
   "metadata": {},
   "outputs": [],
   "source": [
    "# filtered_image_data = fits.getdata(ROOT+\"Observation_2018-03-26T1444_filtered.fits\")\n",
    "# NBINS = 1000\n",
    "# plt.ylim(0, 10000)\n",
    "# filtered_hist = plt.hist(filtered_image_data[0].flatten(), NBINS)"
   ]
  }
 ],
 "metadata": {
  "kernelspec": {
   "display_name": "Python 2",
   "language": "python",
   "name": "python2"
  },
  "language_info": {
   "codemirror_mode": {
    "name": "ipython",
    "version": 2
   },
   "file_extension": ".py",
   "mimetype": "text/x-python",
   "name": "python",
   "nbconvert_exporter": "python",
   "pygments_lexer": "ipython2",
   "version": "2.7.12"
  }
 },
 "nbformat": 4,
 "nbformat_minor": 1
}
