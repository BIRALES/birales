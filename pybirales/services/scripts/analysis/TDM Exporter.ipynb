{
 "cells": [
  {
   "cell_type": "code",
   "execution_count": 110,
   "metadata": {},
   "outputs": [],
   "source": [
    "from analysis import sns, COLORS, BEAM_COLORS, COLORS_C\n",
    "import numpy as np\n",
    "import matplotlib.pyplot as plt\n",
    "%matplotlib inline\n",
    "import pandas as pd\n",
    "from astropy.io import fits\n",
    "from astropy.table import Table\n",
    "from mongoengine import connect\n",
    "from pybirales.repository.models import SpaceDebrisTrack, Observation\n",
    "from scipy.stats.stats import pearsonr\n",
    "from numpy.linalg import lstsq\n",
    "from pybirales.services.post_processing.processor import PostProcessor\n",
    "from pybirales.services.post_processing.writer import TDMWriter\n",
    "from datetime import datetime\n",
    "from jinja2 import Environment, FileSystemLoader\n",
    "import os\n"
   ]
  },
  {
   "cell_type": "code",
   "execution_count": 111,
   "metadata": {},
   "outputs": [],
   "source": [
    "db_connection = connect(\n",
    "    db='birales',\n",
    "    username='birales_rw',\n",
    "    password='arcadia10',\n",
    "    port=27017,\n",
    "    host='localhost')"
   ]
  },
  {
   "cell_type": "code",
   "execution_count": 112,
   "metadata": {},
   "outputs": [],
   "source": [
    "TDM_OUT_DIR = '/home/denis/Desktop/'\n",
    "SAVE_TDM = False\n",
    "\n",
    "OBSERVATION = '5b8fac93be045a0d01b10c1e'\n",
    "TARGET = '4071'\n",
    "\n",
    "# OBSERVATION = '5b8fcd07be045a27a5414d8d'\n",
    "# TARGET = '20439'\n",
    "\n",
    "# OBSERVATION = '5b8fdcd4be045a33dbd511c0'\n",
    "# TARGET = '37820'\n",
    "\n",
    "REMOVE_DUPLICATE_EPOCH = True\n",
    "REMOVE_DUPLICATE_CHANNEL = True"
   ]
  },
  {
   "cell_type": "code",
   "execution_count": 113,
   "metadata": {
    "scrolled": true
   },
   "outputs": [
    {
     "name": "stdout",
     "output_type": "stream",
     "text": [
      "Observation: 5b8fac93be045a0d01b10c1e None\n",
      "\n",
      "Candidate: 5b8fac98be045a0d01b10c20\n",
      "After epoch duplicate filter (size: 13/17)\n",
      "After channel duplicate filter (size: 11/17)\n",
      "Valid: 5 activated beams and size is 11\n",
      "\n",
      "Candidate: 5b8facb0be045a0d01b10c31\n",
      "After epoch duplicate filter (size: 3360/11193)\n",
      "After channel duplicate filter (size: 3296/11193)\n",
      "Valid: 32 activated beams and size is 3296\n",
      "\n",
      "Valid Candidates: 2 (from 2)\n"
     ]
    }
   ],
   "source": [
    "observation = Observation(id=OBSERVATION)\n",
    "print 'Observation: {} {}'.format(observation.id, observation.name)\n",
    "detected_candidates = SpaceDebrisTrack.get(observation_id=observation.id)\n",
    "\n",
    "tracks = []\n",
    "for candidate in detected_candidates:\n",
    "    candidate.data = pd.DataFrame(data=candidate.data,\n",
    "                                  columns=['time_sample', 'channel_sample', 'time', 'channel', 'snr',\n",
    "                                           'beam_id'])\n",
    "    print '\\nCandidate: {}'.format(candidate.id)\n",
    "    orig_size = len(candidate.data)\n",
    "    if REMOVE_DUPLICATE_EPOCH:\n",
    "        candidate.data = candidate.data.sort_values('snr', ascending=False).drop_duplicates(subset=['time_sample', 'beam_id']).sort_values(by=['time_sample'])\n",
    "        \n",
    "    print 'After epoch duplicate filter (size: {}/{})'.format(len(candidate.data), orig_size)\n",
    "\n",
    "    if REMOVE_DUPLICATE_CHANNEL:\n",
    "        candidate.data = candidate.data.sort_values('snr', ascending=False).drop_duplicates(subset=['channel_sample', 'beam_id']).sort_values(by=['time_sample'])\n",
    "        \n",
    "    print 'After channel duplicate filter (size: {}/{})'.format(len(candidate.data), orig_size)\n",
    "    \n",
    "    # Invalidate candidates based on the number of elements and number of illuminated beams\n",
    "    if len(candidate.data) < 5 or len(candidate.data['beam_id'].unique()) < 2:\n",
    "        print('Invalid: {} activated beams and size is {}'.format(len(candidate.data['beam_id'].unique()), len(candidate.data)))\n",
    "        continue\n",
    "        \n",
    "    print('Valid: {} activated beams and size is {}'.format(len(candidate.data['beam_id'].unique()), len(candidate.data)))\n",
    "    tracks.append(candidate)    \n",
    "\n",
    "print '\\nValid Candidates: {} (from {})'.format(len(tracks), len(detected_candidates))"
   ]
  },
  {
   "cell_type": "code",
   "execution_count": 114,
   "metadata": {},
   "outputs": [],
   "source": [
    "if SAVE_TDM:\n",
    "    template_dir = os.path.join('/home/denis/Development/birales/pybirales/services/post_processing')\n",
    "\n",
    "    _template = Environment(loader=FileSystemLoader(template_dir)).get_template('input_template.tdm')\n",
    "\n",
    "    for detection_num, track in enumerate(tracks):\n",
    "        filepath = os.path.join(TDM_OUT_DIR, 'BIRALES_OUT_{:%Y%m%d}_{:0>3}.tdm'.format(min(track.data['time']), detection_num))\n",
    "        data = dict(\n",
    "            filename=TARGET,\n",
    "            creation_date=datetime.utcnow().isoformat('T'),\n",
    "            beams=np.unique(track.data['beam_id']),\n",
    "            detection=track.data,\n",
    "            target_name=TARGET,\n",
    "            tx=track.tx,\n",
    "            pointings=track.pointings,\n",
    "            integration_interval=track.sampling_time\n",
    "        )\n",
    "\n",
    "\n",
    "        parsed_template = _template.render(**data)\n",
    "        with open(filepath, \"wb\") as fh:\n",
    "            fh.write(parsed_template)\n",
    "\n",
    "            print('Output TDM {} persisted at: {}'.format(detection_num + 1, filepath))\n"
   ]
  },
  {
   "cell_type": "code",
   "execution_count": null,
   "metadata": {},
   "outputs": [],
   "source": []
  }
 ],
 "metadata": {
  "kernelspec": {
   "display_name": "Python 2",
   "language": "python",
   "name": "python2"
  },
  "language_info": {
   "codemirror_mode": {
    "name": "ipython",
    "version": 2
   },
   "file_extension": ".py",
   "mimetype": "text/x-python",
   "name": "python",
   "nbconvert_exporter": "python",
   "pygments_lexer": "ipython2",
   "version": "2.7.12"
  }
 },
 "nbformat": 4,
 "nbformat_minor": 2
}
