{
 "cells": [
  {
   "cell_type": "code",
   "execution_count": 6,
   "metadata": {},
   "outputs": [],
   "source": [
    "import numpy as np\n",
    "import time\n",
    "import sys\n",
    "import os"
   ]
  },
  {
   "cell_type": "code",
   "execution_count": null,
   "metadata": {},
   "outputs": [],
   "source": [
    "\"\"\"\n",
    "The notebook is a simple offline beamformer that can be used to generate\n",
    "the gain pattern of 1 receiver element within the BEST phased array \n",
    "in H and E plane. Each receiver is composed of 16 dipole antennas \n",
    "which are combined using an analogue combiner.\n",
    "\n",
    "Using the simulated gain pattern for each of the 16 dipoles, the gain pattern\n",
    "for the receiver element can be obtained by summing the \n",
    "individual contributions of each dipole. The phase \n",
    "difference for each diploe antenna has to be \n",
    "taken into account before the summation.\n",
    "\n",
    "\"\"\""
   ]
  },
  {
   "cell_type": "code",
   "execution_count": 72,
   "metadata": {},
   "outputs": [],
   "source": [
    "# List of constants\n",
    "C = 299792458.0 # speed of light\n",
    "F_C = 408000000 # center frequency\n",
    "_LAMBDA = C / F_C # wavelength\n",
    "N_DIPOLES = 16 # number of BEST dipoles to combine\n",
    "N_CYLINDERS = 1 # Number of BEST cylinders to combine\n",
    "N_THETA = 257 # Number of data points in the theta plane\n",
    "N_PHI = 1024  # Number of data points in the phi plane\n",
    "ELEMENT_ID = 1 # Determine which element within the array to use\n",
    "NAME = \"Combined Gain Pattern\""
   ]
  },
  {
   "cell_type": "code",
   "execution_count": 57,
   "metadata": {},
   "outputs": [],
   "source": [
    "dx = _LAMBDA / 2 # distance between BEST dipoles\n",
    "dy = 1 # distance between BEST cylinders"
   ]
  },
  {
   "cell_type": "code",
   "execution_count": 73,
   "metadata": {},
   "outputs": [],
   "source": [
    "x = np.linspace(0, dx, N_DIPOLES)\n",
    "y = np.linspace(0, dy, N_CYLINDERS)\n",
    "xv, yv = np.meshgrid(x, y)"
   ]
  },
  {
   "cell_type": "code",
   "execution_count": 79,
   "metadata": {},
   "outputs": [
    {
     "name": "stdout",
     "output_type": "stream",
     "text": [
      "[[0.         0.05246824 0.10493451 ... 8.55040381 8.55088672 8.55104769]\n",
      " [0.         0.05246725 0.10493253 ... 8.55024254 8.55072544 8.5508864 ]\n",
      " [0.         0.05246428 0.10492659 ... 8.54975872 8.55024159 8.55040255]\n",
      " ...\n",
      " [0.         0.05246428 0.10492659 ... 8.54975872 8.55024159 8.55040255]\n",
      " [0.         0.05246725 0.10493253 ... 8.55024254 8.55072544 8.5508864 ]\n",
      " [0.         0.05246824 0.10493451 ... 8.55040381 8.55088672 8.55104769]]\n"
     ]
    }
   ],
   "source": [
    "k0 = 2 * np.pi / _LAMBDA\n",
    "\n",
    "theta = np.radians(np.linspace(0, 90, n_theta))\n",
    "phi = np.radians(np.linspace(0, 360, n_phi))\n",
    "kx = np.zeros((n_phi, n_theta))\n",
    "ky = np.zeros((n_phi, n_theta))\n",
    "\n",
    "for i in range(n_phis):\n",
    "    for j in range(n_thetas):\n",
    "        kx[i, j] = k0 * np.cos(phi[i]) * np.sin(theta[j])\n",
    "        ky[i, j] = k0 * np.sin(phi[i]) * np.sin(theta[j])"
   ]
  },
  {
   "cell_type": "code",
   "execution_count": null,
   "metadata": {
    "collapsed": true
   },
   "outputs": [],
   "source": [
    "# Load the elements gain pattern in H and V plane (to be loaded from Eman's simulation)\n",
    "H = np.ndarray(shape=(N_THETA, N_PHI, N_DIPOLES))\n",
    "E = np.ndarray(shape=(N_THETA, N_PHI, N_DIPOLES))"
   ]
  },
  {
   "cell_type": "code",
   "execution_count": null,
   "metadata": {},
   "outputs": [],
   "source": [
    "# Loop over all the elements patters to compute average element pattern\n",
    "for dipole in range(N_DIPOLES):\n",
    "    # Compute total phase offset\n",
    "    phase_offset = kx * xv[0, dipole] + ky * yv[0, dipole]\n",
    "    center_shift = np.exp(-1j * phase_offset)\n",
    "\n",
    "    # Phase shift the element pattern  (theta, phi, dipole)   \n",
    "    H[:, :, i] *= center_shift\n",
    "    E[:, :, i] *= center_shift\n",
    "\n",
    "    \n",
    "# Combine the phase-corrected elements pattern into a single beam\n",
    "combined_H = np.sum(H, axis=2)\n",
    "combined_E = np.sum(E, axis=2)"
   ]
  },
  {
   "cell_type": "code",
   "execution_count": null,
   "metadata": {},
   "outputs": [],
   "source": [
    "# Visualise the radiation pattern of the combined element"
   ]
  }
 ],
 "metadata": {
  "kernelspec": {
   "display_name": "Python 2",
   "language": "python",
   "name": "python2"
  },
  "language_info": {
   "codemirror_mode": {
    "name": "ipython",
    "version": 2
   },
   "file_extension": ".py",
   "mimetype": "text/x-python",
   "name": "python",
   "nbconvert_exporter": "python",
   "pygments_lexer": "ipython2",
   "version": "2.7.12"
  }
 },
 "nbformat": 4,
 "nbformat_minor": 1
}
