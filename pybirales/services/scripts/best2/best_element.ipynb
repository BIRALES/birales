{
 "cells": [
  {
   "cell_type": "code",
   "execution_count": 1,
   "metadata": {},
   "outputs": [
    {
     "data": {
      "text/plain": [
       "'\\nThe notebook is a simple offline beamformer that can be used to generate\\nthe gain pattern of 1 receiver element within the BEST phased array \\nin H and E plane. Each receiver is composed of 16 dipole antennas \\nwhich are combined using an analogue combiner.\\n\\nUsing the simulated gain pattern for each of the 16 dipoles, the gain pattern\\nfor the receiver element can be obtained by summing the \\nindividual contributions of each dipole. The phase \\ndifference for each diploe antenna has to be \\ntaken into account before the summation.\\n\\n'"
      ]
     },
     "execution_count": 1,
     "metadata": {},
     "output_type": "execute_result"
    }
   ],
   "source": [
    "\"\"\"\n",
    "The notebook is a simple offline beamformer that can be used to generate\n",
    "the gain pattern of 1 receiver element within the BEST phased array \n",
    "in H and E plane. Each receiver is composed of 16 dipole antennas \n",
    "which are combined using an analogue combiner.\n",
    "\n",
    "Using the simulated gain pattern for each of the 16 dipoles, the gain pattern\n",
    "for the receiver element can be obtained by summing the \n",
    "individual contributions of each dipole. The phase \n",
    "difference for each diploe antenna has to be \n",
    "taken into account before the summation.\n",
    "\n",
    "\"\"\""
   ]
  },
  {
   "cell_type": "code",
   "execution_count": 11,
   "metadata": {},
   "outputs": [],
   "source": [
    "import numpy as np\n",
    "import time\n",
    "import sys\n",
    "import os\n",
    "import pandas as pd"
   ]
  },
  {
   "cell_type": "code",
   "execution_count": 3,
   "metadata": {},
   "outputs": [],
   "source": [
    "# List of constants\n",
    "C = 299792458.0 # speed of light\n",
    "F_C = 408000000 # center frequency\n",
    "_LAMBDA = C / F_C # wavelength\n",
    "N_DIPOLES = 16 # number of BEST dipoles to combine\n",
    "N_CYLINDERS = 1 # Number of BEST cylinders to combine\n",
    "N_THETA = 257 # Number of data points in the theta plane\n",
    "N_PHI = 1024  # Number of data points in the phi plane\n",
    "ELEMENT_ID = 1 # Determine which element within the array to use\n",
    "NAME = \"Combined Gain Pattern\""
   ]
  },
  {
   "cell_type": "code",
   "execution_count": 4,
   "metadata": {},
   "outputs": [],
   "source": [
    "dx = _LAMBDA / 2 # distance between BEST dipoles\n",
    "dy = 1 # distance between BEST cylinders"
   ]
  },
  {
   "cell_type": "code",
   "execution_count": 5,
   "metadata": {},
   "outputs": [],
   "source": [
    "x = np.linspace(0, dx, N_DIPOLES)\n",
    "y = np.linspace(0, dy, N_CYLINDERS)\n",
    "xv, yv = np.meshgrid(x, y)"
   ]
  },
  {
   "cell_type": "code",
   "execution_count": 9,
   "metadata": {},
   "outputs": [],
   "source": [
    "k0 = 2 * np.pi / _LAMBDA\n",
    "\n",
    "theta = np.radians(np.linspace(0, 90, N_THETA))\n",
    "phi = np.radians(np.linspace(0, 360, N_PHI))\n",
    "kx = np.zeros((N_PHI, N_THETA))\n",
    "ky = np.zeros((N_PHI, N_THETA))\n",
    "\n",
    "for i in range(N_PHI):\n",
    "    for j in range(N_THETA):\n",
    "        kx[i, j] = k0 * np.cos(phi[i]) * np.sin(theta[j])\n",
    "        ky[i, j] = k0 * np.sin(phi[i]) * np.sin(theta[j])"
   ]
  },
  {
   "cell_type": "code",
   "execution_count": 10,
   "metadata": {},
   "outputs": [],
   "source": [
    "# Load the elements gain pattern in H and V plane (to be loaded from Eman's simulation)\n",
    "H = np.ndarray(shape=(N_THETA, N_PHI, N_DIPOLES))\n",
    "E = np.ndarray(shape=(N_THETA, N_PHI, N_DIPOLES))"
   ]
  },
  {
   "cell_type": "code",
   "execution_count": 132,
   "metadata": {},
   "outputs": [
    {
     "data": {
      "text/html": [
       "<div>\n",
       "<style scoped>\n",
       "    .dataframe tbody tr th:only-of-type {\n",
       "        vertical-align: middle;\n",
       "    }\n",
       "\n",
       "    .dataframe tbody tr th {\n",
       "        vertical-align: top;\n",
       "    }\n",
       "\n",
       "    .dataframe thead th {\n",
       "        text-align: right;\n",
       "    }\n",
       "</style>\n",
       "<table border=\"1\" class=\"dataframe\">\n",
       "  <thead>\n",
       "    <tr style=\"text-align: right;\">\n",
       "      <th></th>\n",
       "      <th>Theta[deg.]</th>\n",
       "      <th>Phi[deg.]</th>\n",
       "      <th>Abs(Gain)[dB]</th>\n",
       "      <th>Abs(Theta)[dB]</th>\n",
       "      <th>Phase(Theta)[deg.]</th>\n",
       "      <th>Abs(Phi)[dB]</th>\n",
       "      <th>Phase(Phi)[deg.]</th>\n",
       "      <th>Ax.Ratio[dB]</th>\n",
       "    </tr>\n",
       "  </thead>\n",
       "  <tbody>\n",
       "    <tr>\n",
       "      <th>0</th>\n",
       "      <td>-180.0</td>\n",
       "      <td>90.0</td>\n",
       "      <td>-25.15</td>\n",
       "      <td>-36.25</td>\n",
       "      <td>105.282</td>\n",
       "      <td>-25.51</td>\n",
       "      <td>197.333</td>\n",
       "      <td>10.75</td>\n",
       "    </tr>\n",
       "    <tr>\n",
       "      <th>1</th>\n",
       "      <td>-179.0</td>\n",
       "      <td>90.0</td>\n",
       "      <td>-25.63</td>\n",
       "      <td>-34.20</td>\n",
       "      <td>195.179</td>\n",
       "      <td>-26.29</td>\n",
       "      <td>198.272</td>\n",
       "      <td>34.57</td>\n",
       "    </tr>\n",
       "    <tr>\n",
       "      <th>2</th>\n",
       "      <td>-178.0</td>\n",
       "      <td>90.0</td>\n",
       "      <td>-24.43</td>\n",
       "      <td>-27.39</td>\n",
       "      <td>221.957</td>\n",
       "      <td>-27.49</td>\n",
       "      <td>198.580</td>\n",
       "      <td>13.69</td>\n",
       "    </tr>\n",
       "    <tr>\n",
       "      <th>3</th>\n",
       "      <td>-177.0</td>\n",
       "      <td>90.0</td>\n",
       "      <td>-22.08</td>\n",
       "      <td>-23.03</td>\n",
       "      <td>232.850</td>\n",
       "      <td>-29.15</td>\n",
       "      <td>197.756</td>\n",
       "      <td>12.34</td>\n",
       "    </tr>\n",
       "    <tr>\n",
       "      <th>4</th>\n",
       "      <td>-176.0</td>\n",
       "      <td>90.0</td>\n",
       "      <td>-19.54</td>\n",
       "      <td>-19.83</td>\n",
       "      <td>239.852</td>\n",
       "      <td>-31.39</td>\n",
       "      <td>194.852</td>\n",
       "      <td>14.88</td>\n",
       "    </tr>\n",
       "  </tbody>\n",
       "</table>\n",
       "</div>"
      ],
      "text/plain": [
       "   Theta[deg.]  Phi[deg.]  Abs(Gain)[dB]  Abs(Theta)[dB]  Phase(Theta)[deg.]  \\\n",
       "0       -180.0       90.0         -25.15          -36.25             105.282   \n",
       "1       -179.0       90.0         -25.63          -34.20             195.179   \n",
       "2       -178.0       90.0         -24.43          -27.39             221.957   \n",
       "3       -177.0       90.0         -22.08          -23.03             232.850   \n",
       "4       -176.0       90.0         -19.54          -19.83             239.852   \n",
       "\n",
       "   Abs(Phi)[dB]  Phase(Phi)[deg.]  Ax.Ratio[dB]  \n",
       "0        -25.51           197.333         10.75  \n",
       "1        -26.29           198.272         34.57  \n",
       "2        -27.49           198.580         13.69  \n",
       "3        -29.15           197.756         12.34  \n",
       "4        -31.39           194.852         14.88  "
      ]
     },
     "execution_count": 132,
     "metadata": {},
     "output_type": "execute_result"
    }
   ],
   "source": [
    "h_plane = pd.read_csv('dipoles/mid_dipole_phi_90.txt', header=0, delimiter=r'\\s+', skiprows=[1])\n",
    "e_plane = pd.read_csv('dipoles/mid_dipole_phi_0.txt', header=0, delimiter=r'\\s+', skiprows=[1])\n",
    "\n",
    "h_plane.head()"
   ]
  },
  {
   "cell_type": "code",
   "execution_count": 136,
   "metadata": {},
   "outputs": [
    {
     "data": {
      "text/plain": [
       "[<matplotlib.lines.Line2D at 0x7f3d6de06150>]"
      ]
     },
     "execution_count": 136,
     "metadata": {},
     "output_type": "execute_result"
    },
    {
     "data": {
      "image/png": "[encoded data removed]",
      "text/plain": [
       "<Figure size 432x288 with 1 Axes>"
      ]
     },
     "metadata": {},
     "output_type": "display_data"
    }
   ],
   "source": [
    "import matplotlib.pyplot as plt\n",
    "import seaborn as sns\n",
    "from mpl_toolkits.mplot3d import Axes3D\n",
    "fig = plt.figure()\n",
    "# ax = fig.add_subplot(111, projection='3d')\n",
    "\n",
    "# h_plane['Theta[rad.]'] = np.radians(h_plane['Theta[deg.]'])\n",
    "# h_plane['Phi[rad.]'] = np.radians(h_plane['Phi[deg.]'])\n",
    "\n",
    "# h_plane['X'] = h_plane['Abs(Gain)[dB]'] * np.cos(h_plane['Theta[rad.]']) * np.cos(h_plane['Phi[rad.]'])\n",
    "# h_plane['Y'] = h_plane['Abs(Gain)[dB]'] * np.cos(h_plane['Theta[rad.]']) * np.sin(h_plane['Phi[rad.]'])\n",
    "# h_plane['Z'] = h_plane['Abs(Gain)[dB]'] * np.sin(h_plane['Theta[rad.]'])\n",
    "\n",
    "# e_plane['Theta[rad.]'] = np.radians(e_plane['Theta[deg.]'])\n",
    "# e_plane['Phi[rad.]'] = np.radians(e_plane['Phi[deg.]'])\n",
    "\n",
    "# e_plane['X'] = e_plane['Abs(Gain)[dB]'] * np.sin(e_plane['Theta[rad.]']) * np.cos(e_plane['Phi[rad.]'])\n",
    "# e_plane['Y'] = e_plane['Abs(Gain)[dB]'] * np.sin(e_plane['Theta[rad.]']) * np.sin(e_plane['Phi[rad.]'])\n",
    "# e_plane['Z'] = e_plane['Abs(Gain)[dB]'] * np.cos(e_plane['Theta[rad.]'])\n",
    "\n",
    "\n",
    "# ax = fig.gca(projection='3d')\n",
    "# ax.plot(h_plane['X'], h_plane['Y'], h_plane['Z'], label='H Plane')\n",
    "# ax.plot(e_plane['X'], e_plane['Y'], e_plane['Z'], label='E Plane')\n",
    "# ax.legend()\n",
    "\n",
    "\n",
    "\n",
    "plt.plot(h_plane['Theta[deg.]'], h_plane['Abs(Gain)[dB]'], c= 'k')\n"
   ]
  },
  {
   "cell_type": "code",
   "execution_count": null,
   "metadata": {},
   "outputs": [],
   "source": [
    "# Loop over all the elements patters to compute average element pattern\n",
    "for dipole in range(N_DIPOLES):\n",
    "    # Compute total phase offset\n",
    "    phase_offset = kx * xv[0, dipole] + ky * yv[0, dipole]\n",
    "    center_shift = np.exp(-1j * phase_offset)\n",
    "\n",
    "    # Phase shift the element pattern  (theta, phi, dipole)   \n",
    "    H[:, :, i] *= center_shift\n",
    "    E[:, :, i] *= center_shift\n",
    "\n",
    "    \n",
    "# Combine the phase-corrected elements pattern into a single beam\n",
    "combined_H = np.sum(H, axis=2)\n",
    "combined_E = np.sum(E, axis=2)"
   ]
  },
  {
   "cell_type": "code",
   "execution_count": null,
   "metadata": {},
   "outputs": [],
   "source": []
  },
  {
   "cell_type": "code",
   "execution_count": null,
   "metadata": {},
   "outputs": [],
   "source": [
    "# Visualise the radiation pattern of the combined element"
   ]
  }
 ],
 "metadata": {
  "kernelspec": {
   "display_name": "Python 2",
   "language": "python",
   "name": "python2"
  },
  "language_info": {
   "codemirror_mode": {
    "name": "ipython",
    "version": 2
   },
   "file_extension": ".py",
   "mimetype": "text/x-python",
   "name": "python",
   "nbconvert_exporter": "python",
   "pygments_lexer": "ipython2",
   "version": "2.7.12"
  }
 },
 "nbformat": 4,
 "nbformat_minor": 1
}
